{
 "cells": [
  {
   "cell_type": "code",
   "execution_count": 111,
   "id": "cde7bb6b",
   "metadata": {},
   "outputs": [],
   "source": [
    "import pandas as pd\n",
    "import numpy as np\n",
    "import matplotlib.pyplot as plt\n",
    "from sklearn.model_selection import train_test_split\n",
    "from sklearn.linear_model import Perceptron\n",
    "from sklearn.metrics import accuracy_score\n",
    "from sklearn.preprocessing import LabelEncoder"
   ]
  },
  {
   "cell_type": "code",
   "execution_count": 112,
   "id": "af37f4a4-5217-4aa8-9063-3524f02d99f4",
   "metadata": {},
   "outputs": [],
   "source": [
    "data = pd.read_csv(\"https://archive.ics.uci.edu/ml/machine-learning-databases/iris/iris.data\",header=None)"
   ]
  },
  {
   "cell_type": "code",
   "execution_count": 113,
   "id": "8557c1bc-7d76-4354-985e-d708df44a525",
   "metadata": {},
   "outputs": [
    {
     "data": {
      "text/html": [
       "<div>\n",
       "<style scoped>\n",
       "    .dataframe tbody tr th:only-of-type {\n",
       "        vertical-align: middle;\n",
       "    }\n",
       "\n",
       "    .dataframe tbody tr th {\n",
       "        vertical-align: top;\n",
       "    }\n",
       "\n",
       "    .dataframe thead th {\n",
       "        text-align: right;\n",
       "    }\n",
       "</style>\n",
       "<table border=\"1\" class=\"dataframe\">\n",
       "  <thead>\n",
       "    <tr style=\"text-align: right;\">\n",
       "      <th></th>\n",
       "      <th>0</th>\n",
       "      <th>1</th>\n",
       "      <th>2</th>\n",
       "      <th>3</th>\n",
       "      <th>4</th>\n",
       "    </tr>\n",
       "  </thead>\n",
       "  <tbody>\n",
       "    <tr>\n",
       "      <th>0</th>\n",
       "      <td>5.1</td>\n",
       "      <td>3.5</td>\n",
       "      <td>1.4</td>\n",
       "      <td>0.2</td>\n",
       "      <td>Iris-setosa</td>\n",
       "    </tr>\n",
       "    <tr>\n",
       "      <th>1</th>\n",
       "      <td>4.9</td>\n",
       "      <td>3.0</td>\n",
       "      <td>1.4</td>\n",
       "      <td>0.2</td>\n",
       "      <td>Iris-setosa</td>\n",
       "    </tr>\n",
       "    <tr>\n",
       "      <th>2</th>\n",
       "      <td>4.7</td>\n",
       "      <td>3.2</td>\n",
       "      <td>1.3</td>\n",
       "      <td>0.2</td>\n",
       "      <td>Iris-setosa</td>\n",
       "    </tr>\n",
       "    <tr>\n",
       "      <th>3</th>\n",
       "      <td>4.6</td>\n",
       "      <td>3.1</td>\n",
       "      <td>1.5</td>\n",
       "      <td>0.2</td>\n",
       "      <td>Iris-setosa</td>\n",
       "    </tr>\n",
       "    <tr>\n",
       "      <th>4</th>\n",
       "      <td>5.0</td>\n",
       "      <td>3.6</td>\n",
       "      <td>1.4</td>\n",
       "      <td>0.2</td>\n",
       "      <td>Iris-setosa</td>\n",
       "    </tr>\n",
       "    <tr>\n",
       "      <th>...</th>\n",
       "      <td>...</td>\n",
       "      <td>...</td>\n",
       "      <td>...</td>\n",
       "      <td>...</td>\n",
       "      <td>...</td>\n",
       "    </tr>\n",
       "    <tr>\n",
       "      <th>145</th>\n",
       "      <td>6.7</td>\n",
       "      <td>3.0</td>\n",
       "      <td>5.2</td>\n",
       "      <td>2.3</td>\n",
       "      <td>Iris-virginica</td>\n",
       "    </tr>\n",
       "    <tr>\n",
       "      <th>146</th>\n",
       "      <td>6.3</td>\n",
       "      <td>2.5</td>\n",
       "      <td>5.0</td>\n",
       "      <td>1.9</td>\n",
       "      <td>Iris-virginica</td>\n",
       "    </tr>\n",
       "    <tr>\n",
       "      <th>147</th>\n",
       "      <td>6.5</td>\n",
       "      <td>3.0</td>\n",
       "      <td>5.2</td>\n",
       "      <td>2.0</td>\n",
       "      <td>Iris-virginica</td>\n",
       "    </tr>\n",
       "    <tr>\n",
       "      <th>148</th>\n",
       "      <td>6.2</td>\n",
       "      <td>3.4</td>\n",
       "      <td>5.4</td>\n",
       "      <td>2.3</td>\n",
       "      <td>Iris-virginica</td>\n",
       "    </tr>\n",
       "    <tr>\n",
       "      <th>149</th>\n",
       "      <td>5.9</td>\n",
       "      <td>3.0</td>\n",
       "      <td>5.1</td>\n",
       "      <td>1.8</td>\n",
       "      <td>Iris-virginica</td>\n",
       "    </tr>\n",
       "  </tbody>\n",
       "</table>\n",
       "<p>150 rows × 5 columns</p>\n",
       "</div>"
      ],
      "text/plain": [
       "       0    1    2    3               4\n",
       "0    5.1  3.5  1.4  0.2     Iris-setosa\n",
       "1    4.9  3.0  1.4  0.2     Iris-setosa\n",
       "2    4.7  3.2  1.3  0.2     Iris-setosa\n",
       "3    4.6  3.1  1.5  0.2     Iris-setosa\n",
       "4    5.0  3.6  1.4  0.2     Iris-setosa\n",
       "..   ...  ...  ...  ...             ...\n",
       "145  6.7  3.0  5.2  2.3  Iris-virginica\n",
       "146  6.3  2.5  5.0  1.9  Iris-virginica\n",
       "147  6.5  3.0  5.2  2.0  Iris-virginica\n",
       "148  6.2  3.4  5.4  2.3  Iris-virginica\n",
       "149  5.9  3.0  5.1  1.8  Iris-virginica\n",
       "\n",
       "[150 rows x 5 columns]"
      ]
     },
     "execution_count": 113,
     "metadata": {},
     "output_type": "execute_result"
    }
   ],
   "source": [
    "data"
   ]
  },
  {
   "cell_type": "code",
   "execution_count": 114,
   "id": "d4c09ce1-eb83-4f01-bddf-53f88f21da2d",
   "metadata": {},
   "outputs": [
    {
     "name": "stdout",
     "output_type": "stream",
     "text": [
      "       0    1    2    3  4\n",
      "0    5.1  3.5  1.4  0.2  0\n",
      "1    4.9  3.0  1.4  0.2  0\n",
      "2    4.7  3.2  1.3  0.2  0\n",
      "3    4.6  3.1  1.5  0.2  0\n",
      "4    5.0  3.6  1.4  0.2  0\n",
      "..   ...  ...  ...  ... ..\n",
      "145  6.7  3.0  5.2  2.3  2\n",
      "146  6.3  2.5  5.0  1.9  2\n",
      "147  6.5  3.0  5.2  2.0  2\n",
      "148  6.2  3.4  5.4  2.3  2\n",
      "149  5.9  3.0  5.1  1.8  2\n",
      "\n",
      "[150 rows x 5 columns]\n"
     ]
    }
   ],
   "source": [
    "#converting the string labels into numeric labels for sci-kit learn\n",
    "\n",
    "label_encoder = LabelEncoder()\n",
    "data[4]=label_encoder.fit_transform(data.iloc[0:150, 4].values)\n",
    "print(data)"
   ]
  },
  {
   "cell_type": "code",
   "execution_count": 115,
   "id": "de7ae9d2-4a55-43b3-b45f-adc9aa7b7f95",
   "metadata": {},
   "outputs": [],
   "source": [
    "#extracting data points for setosa and virginica\n",
    "\n",
    "X1 = data.iloc[0:50, [1, 3]]\n",
    "X2 = data.iloc[100:150, [1, 3]]\n",
    "X=pd.concat([X1, X2], axis=0,ignore_index=True)\n",
    "\n",
    "Y1 = data.iloc[0:50, 4]\n",
    "Y2 = data.iloc[100:150, 4]\n",
    "y=pd.concat([Y1, Y2], axis=0,ignore_index=True)\n"
   ]
  },
  {
   "cell_type": "code",
   "execution_count": 124,
   "id": "bf036447-06cc-4eee-b652-7f48424f60a4",
   "metadata": {},
   "outputs": [
    {
     "data": {
      "text/plain": [
       "<matplotlib.legend.Legend at 0x26153a7d400>"
      ]
     },
     "execution_count": 124,
     "metadata": {},
     "output_type": "execute_result"
    },
    {
     "data": {
      "image/png": "[encoded data removed]",
      "text/plain": [
       "<Figure size 432x288 with 1 Axes>"
      ]
     },
     "metadata": {
      "needs_background": "light"
     },
     "output_type": "display_data"
    }
   ],
   "source": [
    "#plotting the extracted data points\n",
    "\n",
    "plt.scatter(X.iloc[0:50, 0], X.iloc[0:50, 1], color='red', marker='x', label='setosa')\n",
    "\n",
    "plt.scatter(X.iloc[50:100, 0], X.iloc[50:100, 1],\n",
    "            color='blue', marker='o', label='viginica')\n",
    "\n",
    "#labelling the data\n",
    "plt.title('Original Datapoints for 2 species (Setosa & Virginica)')\n",
    "plt.xlabel('sepal width [cm]')\n",
    "plt.ylabel('petal width [cm]')\n",
    "plt.legend(loc='upper right')"
   ]
  },
  {
   "cell_type": "code",
   "execution_count": 117,
   "id": "639e89bd-e63b-48c0-a07d-fba85c7937c8",
   "metadata": {},
   "outputs": [
    {
     "name": "stdout",
     "output_type": "stream",
     "text": [
      "Accuracy: 100.00%\n"
     ]
    }
   ],
   "source": [
    "#training the perceptron and checking accuracy on the testing set\n",
    "\n",
    "X_train, X_test, y_train, y_test = train_test_split(X, y, test_size = 0.25, random_state = 0)\n",
    "ppn=Perceptron(max_iter = 20, eta0 = 0.1, random_state = 0)\n",
    "ppn.fit(X_train,y_train)\n",
    "y_pred=ppn.predict(X_test)\n",
    "y_pred\n",
    "accuracy = accuracy_score(y_test, y_pred)\n",
    "print(f'Accuracy: {accuracy * 100:.2f}%')"
   ]
  },
  {
   "cell_type": "code",
   "execution_count": 118,
   "id": "690160da-31fa-4385-a265-9369574cc6fc",
   "metadata": {},
   "outputs": [
    {
     "data": {
      "image/png": "[encoded data removed]",
      "text/plain": [
       "<Figure size 432x288 with 1 Axes>"
      ]
     },
     "metadata": {
      "needs_background": "light"
     },
     "output_type": "display_data"
    }
   ],
   "source": [
    "#plotting errors per epoch\n",
    "\n",
    "errors_per_epoch = []\n",
    "for epoch in range(1, 21):\n",
    "    ppn.fit(X, y)\n",
    "    y_pred = ppn.predict(X)\n",
    "    misclassified = (y != y_pred).sum()\n",
    "    errors_per_epoch.append(misclassified)\n",
    "plt.plot(range(1, 21), errors_per_epoch, marker='')\n",
    "plt.xlabel('Epoch')\n",
    "plt.ylabel('Number of Misclassifications')\n",
    "plt.title('Number of Errors per Epoch')\n",
    "plt.show()"
   ]
  },
  {
   "cell_type": "code",
   "execution_count": 119,
   "id": "b4fcb9e8-7416-4df0-85c6-1d684e6d0cdc",
   "metadata": {},
   "outputs": [],
   "source": [
    "#recombining data to represent with the decision boundary\n",
    "\n",
    "X_combined = np.vstack((X_train, X_test))\n",
    "y_combined = np.hstack((y_train, y_test))"
   ]
  },
  {
   "cell_type": "code",
   "execution_count": 122,
   "id": "266fa403-0e07-4c95-9cbf-f432bcb327ba",
   "metadata": {},
   "outputs": [
    {
     "data": {
      "image/png": "[encoded data removed]",
      "text/plain": [
       "<Figure size 432x288 with 1 Axes>"
      ]
     },
     "metadata": {
      "needs_background": "light"
     },
     "output_type": "display_data"
    }
   ],
   "source": [
    "#plotting the data points along with the decision boundary\n",
    "\n",
    "w = ppn.coef_[0]\n",
    "b = ppn.intercept_[0]\n",
    "\n",
    "# Creating a meshgrid for the decision boundary\n",
    "x_min, x_max = X_combined[:, 0].min() - 1, X_combined[:, 0].max() + 1\n",
    "y_min, y_max = X_combined[:, 1].min() - 1, X_combined[:, 1].max() + 1\n",
    "xx, yy = np.meshgrid(np.arange(x_min, x_max, 0.01), np.arange(y_min, y_max, 0.01))\n",
    "\n",
    "# Calculating the decision boundary line\n",
    "Z = ppn.predict(np.c_[xx.ravel(), yy.ravel()])\n",
    "Z = Z.reshape(xx.shape)\n",
    "\n",
    "class0_indices = []\n",
    "class2_indices = []\n",
    "\n",
    "for i in range(0,100):\n",
    "    if(y_combined[i]==0):\n",
    "        class0_indices.append(i)\n",
    "    else:\n",
    "        class2_indices.append(i)\n",
    "\n",
    "plt.scatter(X_combined[class0_indices, 0], X_combined[class0_indices, 1], c='red', marker='x', label='Class A')\n",
    "plt.scatter(X_combined[class2_indices, 0], X_combined[class2_indices, 1], c='blue', marker='o', label='Class B')\n",
    "\n",
    "# Plotting the decision boundary line\n",
    "plt.contourf(xx, yy, Z, alpha=0.3 ,levels=[-1, 0, 1],colors=['red','blue'], extend=\"both\")\n",
    "plt.title('Combined data points seperated by decision boundary')\n",
    "plt.xlabel('sepal width [cm]')\n",
    "plt.ylabel('petal width [cm]')\n",
    "plt.legend(loc='upper right')\n",
    "\n",
    "plt.show()\n"
   ]
  },
  {
   "cell_type": "code",
   "execution_count": 123,
   "id": "37c6c395-af85-4250-9f9c-7239dbde14d3",
   "metadata": {},
   "outputs": [
    {
     "data": {
      "image/png": "[encoded data removed]",
      "text/plain": [
       "<Figure size 432x288 with 1 Axes>"
      ]
     },
     "metadata": {
      "needs_background": "light"
     },
     "output_type": "display_data"
    }
   ],
   "source": [
    "#plotting the test data to verify correct classification\n",
    "x_min, x_max = X_test.iloc[:, 0].min() - 1, X_test.iloc[:, 0].max() + 1\n",
    "y_min, y_max = X_test.iloc[:, 1].min() - 1, X_test.iloc[:, 1].max() + 1\n",
    "xx, yy = np.meshgrid(np.arange(x_min, x_max, 0.01), np.arange(y_min, y_max, 0.01))\n",
    "\n",
    "# Calculating the decision boundary line\n",
    "Z = ppn.predict(np.c_[xx.ravel(), yy.ravel()])\n",
    "Z = Z.reshape(xx.shape)\n",
    "\n",
    "class0_indices = []\n",
    "class2_indices = []\n",
    "\n",
    "for i in range(0,25):\n",
    "    if(y_test.iloc[i]==0):\n",
    "        class0_indices.append(i)\n",
    "    else:\n",
    "        class2_indices.append(i)\n",
    "\n",
    "plt.scatter(X_test.iloc[class0_indices, 0], X_test.iloc[class0_indices, 1], c='red', marker='x', label='Class A')\n",
    "plt.scatter(X_test.iloc[class2_indices, 0], X_test.iloc[class2_indices, 1], c='blue', marker='o', label='Class B')\n",
    "# Plotting the decision boundary line\n",
    "plt.contourf(xx, yy, Z, alpha=0.3 ,levels=[-1, 0, 1],colors=['red','blue'], extend=\"both\")\n",
    "\n",
    "# Setting labels and legend\n",
    "plt.title('Test data points seperated by decision boundary')\n",
    "plt.xlabel('sepal width [cm]')\n",
    "plt.ylabel('petal width [cm]')\n",
    "plt.legend(loc='upper right')\n",
    "\n",
    "# Showing the plot\n",
    "plt.show()\n"
   ]
  },
  {
   "cell_type": "code",
   "execution_count": null,
   "id": "fbb33871-5425-423f-a4a6-265f0795afa3",
   "metadata": {},
   "outputs": [],
   "source": []
  }
 ],
 "metadata": {
  "kernelspec": {
   "display_name": "Python 3",
   "language": "python",
   "name": "python3"
  },
  "language_info": {
   "codemirror_mode": {
    "name": "ipython",
    "version": 3
   },
   "file_extension": ".py",
   "mimetype": "text/x-python",
   "name": "python",
   "nbconvert_exporter": "python",
   "pygments_lexer": "ipython3",
   "version": "3.9.5"
  }
 },
 "nbformat": 4,
 "nbformat_minor": 5
}
