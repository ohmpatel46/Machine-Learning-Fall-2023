{
 "cells": [
  {
   "cell_type": "code",
   "execution_count": 1,
   "id": "c783d0c6-7db5-43a6-ae4a-f9cd4b25241e",
   "metadata": {},
   "outputs": [],
   "source": [
    "import pandas as pd\n",
    "import numpy as np\n",
    "import matplotlib.pyplot as plt\n",
    "import seaborn as sns\n",
    "from sklearn.model_selection import train_test_split\n",
    "from sklearn.metrics import accuracy_score\n",
    "from sklearn.preprocessing import MinMaxScaler\n",
    "from sklearn.preprocessing import LabelEncoder\n",
    "from mlxtend.plotting import plot_decision_regions\n",
    "\n",
    "from sklearn.svm import SVC\n",
    "from imblearn.under_sampling import RandomUnderSampler\n",
    "from sklearn.preprocessing import OneHotEncoder\n",
    "from sklearn.metrics import accuracy_score, classification_report, confusion_matrix"
   ]
  },
  {
   "cell_type": "markdown",
   "id": "4bf57aa5-aeec-4123-a4e4-6fbb4219c143",
   "metadata": {},
   "source": [
    "\n",
    "---\n",
    "\n",
    "### 1. Cleaning the data, sampling a subset of the data, balancing the subset, encoding categorical values and changing \n",
    "### labels from string to numeric"
   ]
  },
  {
   "cell_type": "code",
   "execution_count": 2,
   "id": "7e8551e9-c113-4acc-b1fc-268c58751109",
   "metadata": {
    "scrolled": true
   },
   "outputs": [
    {
     "name": "stdout",
     "output_type": "stream",
     "text": [
      "  duration protocol_type  service   flag src_bytes dst_bytes land  \\\n",
      "0        0        b'tcp'  b'http'  b'SF'       181      5450    0   \n",
      "1        0        b'tcp'  b'http'  b'SF'       239       486    0   \n",
      "2        0        b'tcp'  b'http'  b'SF'       235      1337    0   \n",
      "3        0        b'tcp'  b'http'  b'SF'       219      1337    0   \n",
      "4        0        b'tcp'  b'http'  b'SF'       217      2032    0   \n",
      "\n",
      "  wrong_fragment urgent hot num_failed_logins logged_in num_compromised  \\\n",
      "0              0      0   0                 0         1               0   \n",
      "1              0      0   0                 0         1               0   \n",
      "2              0      0   0                 0         1               0   \n",
      "3              0      0   0                 0         1               0   \n",
      "4              0      0   0                 0         1               0   \n",
      "\n",
      "  root_shell su_attempted num_root num_file_creations num_shells  \\\n",
      "0          0            0        0                  0          0   \n",
      "1          0            0        0                  0          0   \n",
      "2          0            0        0                  0          0   \n",
      "3          0            0        0                  0          0   \n",
      "4          0            0        0                  0          0   \n",
      "\n",
      "  num_access_files num_outbound_cmds is_host_login is_guest_login count  \\\n",
      "0                0                 0             0              0     8   \n",
      "1                0                 0             0              0     8   \n",
      "2                0                 0             0              0     8   \n",
      "3                0                 0             0              0     6   \n",
      "4                0                 0             0              0     6   \n",
      "\n",
      "  srv_count serror_rate srv_serror_rate rerror_rate srv_rerror_rate  \\\n",
      "0         8         0.0             0.0         0.0             0.0   \n",
      "1         8         0.0             0.0         0.0             0.0   \n",
      "2         8         0.0             0.0         0.0             0.0   \n",
      "3         6         0.0             0.0         0.0             0.0   \n",
      "4         6         0.0             0.0         0.0             0.0   \n",
      "\n",
      "  same_srv_rate diff_srv_rate srv_diff_host_rate dst_host_count  \\\n",
      "0           1.0           0.0                0.0              9   \n",
      "1           1.0           0.0                0.0             19   \n",
      "2           1.0           0.0                0.0             29   \n",
      "3           1.0           0.0                0.0             39   \n",
      "4           1.0           0.0                0.0             49   \n",
      "\n",
      "  dst_host_srv_count dst_host_same_srv_rate dst_host_diff_srv_rate  \\\n",
      "0                  9                    1.0                    0.0   \n",
      "1                 19                    1.0                    0.0   \n",
      "2                 29                    1.0                    0.0   \n",
      "3                 39                    1.0                    0.0   \n",
      "4                 49                    1.0                    0.0   \n",
      "\n",
      "  dst_host_same_src_port_rate dst_host_srv_diff_host_rate  \\\n",
      "0                        0.11                         0.0   \n",
      "1                        0.05                         0.0   \n",
      "2                        0.03                         0.0   \n",
      "3                        0.03                         0.0   \n",
      "4                        0.02                         0.0   \n",
      "\n",
      "  dst_host_serror_rate dst_host_srv_serror_rate dst_host_rerror_rate  \\\n",
      "0                  0.0                      0.0                  0.0   \n",
      "1                  0.0                      0.0                  0.0   \n",
      "2                  0.0                      0.0                  0.0   \n",
      "3                  0.0                      0.0                  0.0   \n",
      "4                  0.0                      0.0                  0.0   \n",
      "\n",
      "  dst_host_srv_rerror_rate      labels  \n",
      "0                      0.0  b'normal.'  \n",
      "1                      0.0  b'normal.'  \n",
      "2                      0.0  b'normal.'  \n",
      "3                      0.0  b'normal.'  \n",
      "4                      0.0  b'normal.'  \n"
     ]
    }
   ],
   "source": [
    "from sklearn.datasets import fetch_kddcup99\n",
    "pd.options.display.max_columns = None\n",
    "data = fetch_kddcup99(percent10=True, as_frame=True)[\"frame\"]\n",
    "data = data.drop_duplicates();\n",
    "print(data.head())"
   ]
  },
  {
   "cell_type": "code",
   "execution_count": 3,
   "id": "2933ee47-0c91-4bee-b744-99999b2e8967",
   "metadata": {
    "scrolled": true
   },
   "outputs": [
    {
     "name": "stdout",
     "output_type": "stream",
     "text": [
      "(317205, 121)\n",
      "  duration src_bytes dst_bytes land wrong_fragment urgent hot  \\\n",
      "0        0       181      5450    0              0      0   0   \n",
      "1        0       239       486    0              0      0   0   \n",
      "2        0       235      1337    0              0      0   0   \n",
      "3        0       219      1337    0              0      0   0   \n",
      "4        0       217      2032    0              0      0   0   \n",
      "\n",
      "  num_failed_logins logged_in num_compromised root_shell su_attempted  \\\n",
      "0                 0         1               0          0            0   \n",
      "1                 0         1               0          0            0   \n",
      "2                 0         1               0          0            0   \n",
      "3                 0         1               0          0            0   \n",
      "4                 0         1               0          0            0   \n",
      "\n",
      "  num_root num_file_creations num_shells num_access_files num_outbound_cmds  \\\n",
      "0        0                  0          0                0                 0   \n",
      "1        0                  0          0                0                 0   \n",
      "2        0                  0          0                0                 0   \n",
      "3        0                  0          0                0                 0   \n",
      "4        0                  0          0                0                 0   \n",
      "\n",
      "  is_host_login is_guest_login count srv_count serror_rate srv_serror_rate  \\\n",
      "0             0              0     8         8         0.0             0.0   \n",
      "1             0              0     8         8         0.0             0.0   \n",
      "2             0              0     8         8         0.0             0.0   \n",
      "3             0              0     6         6         0.0             0.0   \n",
      "4             0              0     6         6         0.0             0.0   \n",
      "\n",
      "  rerror_rate srv_rerror_rate same_srv_rate diff_srv_rate srv_diff_host_rate  \\\n",
      "0         0.0             0.0           1.0           0.0                0.0   \n",
      "1         0.0             0.0           1.0           0.0                0.0   \n",
      "2         0.0             0.0           1.0           0.0                0.0   \n",
      "3         0.0             0.0           1.0           0.0                0.0   \n",
      "4         0.0             0.0           1.0           0.0                0.0   \n",
      "\n",
      "  dst_host_count dst_host_srv_count dst_host_same_srv_rate  \\\n",
      "0              9                  9                    1.0   \n",
      "1             19                 19                    1.0   \n",
      "2             29                 29                    1.0   \n",
      "3             39                 39                    1.0   \n",
      "4             49                 49                    1.0   \n",
      "\n",
      "  dst_host_diff_srv_rate dst_host_same_src_port_rate  \\\n",
      "0                    0.0                        0.11   \n",
      "1                    0.0                        0.05   \n",
      "2                    0.0                        0.03   \n",
      "3                    0.0                        0.03   \n",
      "4                    0.0                        0.02   \n",
      "\n",
      "  dst_host_srv_diff_host_rate dst_host_serror_rate dst_host_srv_serror_rate  \\\n",
      "0                         0.0                  0.0                      0.0   \n",
      "1                         0.0                  0.0                      0.0   \n",
      "2                         0.0                  0.0                      0.0   \n",
      "3                         0.0                  0.0                      0.0   \n",
      "4                         0.0                  0.0                      0.0   \n",
      "\n",
      "  dst_host_rerror_rate dst_host_srv_rerror_rate      labels  \\\n",
      "0                  0.0                      0.0  b'normal.'   \n",
      "1                  0.0                      0.0  b'normal.'   \n",
      "2                  0.0                      0.0  b'normal.'   \n",
      "3                  0.0                      0.0  b'normal.'   \n",
      "4                  0.0                      0.0  b'normal.'   \n",
      "\n",
      "   protocol_type_b'icmp'  protocol_type_b'tcp'  protocol_type_b'udp'  \\\n",
      "0                    0.0                   1.0                   0.0   \n",
      "1                    0.0                   1.0                   0.0   \n",
      "2                    0.0                   1.0                   0.0   \n",
      "3                    0.0                   1.0                   0.0   \n",
      "4                    0.0                   1.0                   0.0   \n",
      "\n",
      "   service_b'IRC'  service_b'X11'  service_b'Z39_50'  service_b'auth'  \\\n",
      "0             0.0             0.0                0.0              0.0   \n",
      "1             0.0             0.0                0.0              0.0   \n",
      "2             0.0             0.0                0.0              0.0   \n",
      "3             0.0             0.0                0.0              0.0   \n",
      "4             0.0             0.0                0.0              0.0   \n",
      "\n",
      "   service_b'bgp'  service_b'courier'  service_b'csnet_ns'  service_b'ctf'  \\\n",
      "0             0.0                 0.0                  0.0             0.0   \n",
      "1             0.0                 0.0                  0.0             0.0   \n",
      "2             0.0                 0.0                  0.0             0.0   \n",
      "3             0.0                 0.0                  0.0             0.0   \n",
      "4             0.0                 0.0                  0.0             0.0   \n",
      "\n",
      "   service_b'daytime'  service_b'discard'  service_b'domain'  \\\n",
      "0                 0.0                 0.0                0.0   \n",
      "1                 0.0                 0.0                0.0   \n",
      "2                 0.0                 0.0                0.0   \n",
      "3                 0.0                 0.0                0.0   \n",
      "4                 0.0                 0.0                0.0   \n",
      "\n",
      "   service_b'domain_u'  service_b'echo'  service_b'eco_i'  service_b'ecr_i'  \\\n",
      "0                  0.0              0.0               0.0               0.0   \n",
      "1                  0.0              0.0               0.0               0.0   \n",
      "2                  0.0              0.0               0.0               0.0   \n",
      "3                  0.0              0.0               0.0               0.0   \n",
      "4                  0.0              0.0               0.0               0.0   \n",
      "\n",
      "   service_b'efs'  service_b'exec'  service_b'finger'  service_b'ftp'  \\\n",
      "0             0.0              0.0                0.0             0.0   \n",
      "1             0.0              0.0                0.0             0.0   \n",
      "2             0.0              0.0                0.0             0.0   \n",
      "3             0.0              0.0                0.0             0.0   \n",
      "4             0.0              0.0                0.0             0.0   \n",
      "\n",
      "   service_b'ftp_data'  service_b'gopher'  service_b'hostnames'  \\\n",
      "0                  0.0                0.0                   0.0   \n",
      "1                  0.0                0.0                   0.0   \n",
      "2                  0.0                0.0                   0.0   \n",
      "3                  0.0                0.0                   0.0   \n",
      "4                  0.0                0.0                   0.0   \n",
      "\n",
      "   service_b'http'  service_b'http_443'  service_b'imap4'  \\\n",
      "0              1.0                  0.0               0.0   \n",
      "1              1.0                  0.0               0.0   \n",
      "2              1.0                  0.0               0.0   \n",
      "3              1.0                  0.0               0.0   \n",
      "4              1.0                  0.0               0.0   \n",
      "\n",
      "   service_b'iso_tsap'  service_b'klogin'  service_b'kshell'  service_b'ldap'  \\\n",
      "0                  0.0                0.0                0.0              0.0   \n",
      "1                  0.0                0.0                0.0              0.0   \n",
      "2                  0.0                0.0                0.0              0.0   \n",
      "3                  0.0                0.0                0.0              0.0   \n",
      "4                  0.0                0.0                0.0              0.0   \n",
      "\n",
      "   service_b'link'  service_b'login'  service_b'mtp'  service_b'name'  \\\n",
      "0              0.0               0.0             0.0              0.0   \n",
      "1              0.0               0.0             0.0              0.0   \n",
      "2              0.0               0.0             0.0              0.0   \n",
      "3              0.0               0.0             0.0              0.0   \n",
      "4              0.0               0.0             0.0              0.0   \n",
      "\n",
      "   service_b'netbios_dgm'  service_b'netbios_ns'  service_b'netbios_ssn'  \\\n",
      "0                     0.0                    0.0                     0.0   \n",
      "1                     0.0                    0.0                     0.0   \n",
      "2                     0.0                    0.0                     0.0   \n",
      "3                     0.0                    0.0                     0.0   \n",
      "4                     0.0                    0.0                     0.0   \n",
      "\n",
      "   service_b'netstat'  service_b'nnsp'  service_b'nntp'  service_b'ntp_u'  \\\n",
      "0                 0.0              0.0              0.0               0.0   \n",
      "1                 0.0              0.0              0.0               0.0   \n",
      "2                 0.0              0.0              0.0               0.0   \n",
      "3                 0.0              0.0              0.0               0.0   \n",
      "4                 0.0              0.0              0.0               0.0   \n",
      "\n",
      "   service_b'other'  service_b'pm_dump'  service_b'pop_2'  service_b'pop_3'  \\\n",
      "0               0.0                 0.0               0.0               0.0   \n",
      "1               0.0                 0.0               0.0               0.0   \n",
      "2               0.0                 0.0               0.0               0.0   \n",
      "3               0.0                 0.0               0.0               0.0   \n",
      "4               0.0                 0.0               0.0               0.0   \n",
      "\n",
      "   service_b'printer'  service_b'private'  service_b'red_i'  \\\n",
      "0                 0.0                 0.0               0.0   \n",
      "1                 0.0                 0.0               0.0   \n",
      "2                 0.0                 0.0               0.0   \n",
      "3                 0.0                 0.0               0.0   \n",
      "4                 0.0                 0.0               0.0   \n",
      "\n",
      "   service_b'remote_job'  service_b'rje'  service_b'shell'  service_b'smtp'  \\\n",
      "0                    0.0             0.0               0.0              0.0   \n",
      "1                    0.0             0.0               0.0              0.0   \n",
      "2                    0.0             0.0               0.0              0.0   \n",
      "3                    0.0             0.0               0.0              0.0   \n",
      "4                    0.0             0.0               0.0              0.0   \n",
      "\n",
      "   service_b'sql_net'  service_b'ssh'  service_b'sunrpc'  service_b'supdup'  \\\n",
      "0                 0.0             0.0                0.0                0.0   \n",
      "1                 0.0             0.0                0.0                0.0   \n",
      "2                 0.0             0.0                0.0                0.0   \n",
      "3                 0.0             0.0                0.0                0.0   \n",
      "4                 0.0             0.0                0.0                0.0   \n",
      "\n",
      "   service_b'systat'  service_b'telnet'  service_b'tftp_u'  service_b'tim_i'  \\\n",
      "0                0.0                0.0                0.0               0.0   \n",
      "1                0.0                0.0                0.0               0.0   \n",
      "2                0.0                0.0                0.0               0.0   \n",
      "3                0.0                0.0                0.0               0.0   \n",
      "4                0.0                0.0                0.0               0.0   \n",
      "\n",
      "   service_b'time'  service_b'urh_i'  service_b'urp_i'  service_b'uucp'  \\\n",
      "0              0.0               0.0               0.0              0.0   \n",
      "1              0.0               0.0               0.0              0.0   \n",
      "2              0.0               0.0               0.0              0.0   \n",
      "3              0.0               0.0               0.0              0.0   \n",
      "4              0.0               0.0               0.0              0.0   \n",
      "\n",
      "   service_b'uucp_path'  service_b'vmnet'  service_b'whois'  service_nan  \\\n",
      "0                   0.0               0.0               0.0          0.0   \n",
      "1                   0.0               0.0               0.0          0.0   \n",
      "2                   0.0               0.0               0.0          0.0   \n",
      "3                   0.0               0.0               0.0          0.0   \n",
      "4                   0.0               0.0               0.0          0.0   \n",
      "\n",
      "   flag_b'OTH'  flag_b'REJ'  flag_b'RSTO'  flag_b'RSTOS0'  flag_b'RSTR'  \\\n",
      "0          0.0          0.0           0.0             0.0           0.0   \n",
      "1          0.0          0.0           0.0             0.0           0.0   \n",
      "2          0.0          0.0           0.0             0.0           0.0   \n",
      "3          0.0          0.0           0.0             0.0           0.0   \n",
      "4          0.0          0.0           0.0             0.0           0.0   \n",
      "\n",
      "   flag_b'S0'  flag_b'S1'  flag_b'S2'  flag_b'S3'  flag_b'SF'  flag_b'SH'  \\\n",
      "0         0.0         0.0         0.0         0.0         1.0         0.0   \n",
      "1         0.0         0.0         0.0         0.0         1.0         0.0   \n",
      "2         0.0         0.0         0.0         0.0         1.0         0.0   \n",
      "3         0.0         0.0         0.0         0.0         1.0         0.0   \n",
      "4         0.0         0.0         0.0         0.0         1.0         0.0   \n",
      "\n",
      "   flag_nan  \n",
      "0       0.0  \n",
      "1       0.0  \n",
      "2       0.0  \n",
      "3       0.0  \n",
      "4       0.0  \n"
     ]
    }
   ],
   "source": [
    "encoder = OneHotEncoder()\n",
    "\n",
    "#encoding protocol_type\n",
    "encoded_data = encoder.fit_transform(data[['protocol_type']])\n",
    "encoded_data_array = encoded_data.toarray()\n",
    "encoded_data_df = pd.DataFrame(encoded_data_array, columns=encoder.get_feature_names_out(['protocol_type']))\n",
    "df_final = pd.concat([data.drop(['protocol_type'], axis=1), encoded_data_df], axis=1)\n",
    "\n",
    "#encoding service\n",
    "encoded_data = encoder.fit_transform(df_final[['service']])\n",
    "encoded_data_array = encoded_data.toarray()\n",
    "encoded_data_df = pd.DataFrame(encoded_data_array, columns=encoder.get_feature_names_out(['service']))\n",
    "df_final = pd.concat([df_final.drop(['service'], axis=1), encoded_data_df], axis=1)\n",
    "\n",
    "#encoding flag\n",
    "encoded_data = encoder.fit_transform(df_final[['flag']])\n",
    "encoded_data_array = encoded_data.toarray()\n",
    "encoded_data_df = pd.DataFrame(encoded_data_array, columns=encoder.get_feature_names_out(['flag']))\n",
    "df_final = pd.concat([df_final.drop(['flag'], axis=1), encoded_data_df], axis=1)\n",
    "\n",
    "print(df_final.shape)\n",
    "print(df_final.head())\n",
    "\n",
    "data=df_final"
   ]
  },
  {
   "cell_type": "code",
   "execution_count": 4,
   "id": "f5cc56b6-dfe8-46b5-ac84-5e4ac75435a0",
   "metadata": {},
   "outputs": [
    {
     "name": "stdout",
     "output_type": "stream",
     "text": [
      "Count of Rows with One or More Missing Values: 230958\n"
     ]
    }
   ],
   "source": [
    "#Finding the count of rows that have NaN or missing values\n",
    "missing_values = data.isna()\n",
    "rows_with_missing_values = missing_values.sum(axis=1) > 0\n",
    "count_rows_with_missing_values = rows_with_missing_values.sum()\n",
    "print(\"Count of Rows with One or More Missing Values:\", count_rows_with_missing_values)"
   ]
  },
  {
   "cell_type": "code",
   "execution_count": 5,
   "id": "5fd11dc0-6a86-475a-90fb-b0fc8aa416c6",
   "metadata": {
    "scrolled": true
   },
   "outputs": [
    {
     "name": "stdout",
     "output_type": "stream",
     "text": [
      "Count of NaN Values in Each Column:\n",
      "duration          171619\n",
      "src_bytes         171619\n",
      "dst_bytes         171619\n",
      "land              171619\n",
      "wrong_fragment    171619\n",
      "                   ...  \n",
      "flag_b'S2'         56140\n",
      "flag_b'S3'         56140\n",
      "flag_b'SF'         56140\n",
      "flag_b'SH'         56140\n",
      "flag_nan           56140\n",
      "Length: 121, dtype: int64\n",
      "(86247, 121)\n",
      "Count of NaN Values in Each Column:\n",
      "duration          0\n",
      "src_bytes         0\n",
      "dst_bytes         0\n",
      "land              0\n",
      "wrong_fragment    0\n",
      "                 ..\n",
      "flag_b'S2'        0\n",
      "flag_b'S3'        0\n",
      "flag_b'SF'        0\n",
      "flag_b'SH'        0\n",
      "flag_nan          0\n",
      "Length: 121, dtype: int64\n"
     ]
    }
   ],
   "source": [
    "#checking count of NaN values per column\n",
    "nan_count_per_column = data.isna().sum()\n",
    "print(\"Count of NaN Values in Each Column:\")\n",
    "print(nan_count_per_column)\n",
    "#dropping rows with null values\n",
    "#Even though the number of rows with NaN values is high, I chose to impute that data as it is better than replacing it with zeroes or median without\n",
    "#having the proper knowledge of what the central tendency of that field should look like\n",
    "df_cleaned = data.dropna()\n",
    "nan_count_per_column = df_cleaned.isna().sum()\n",
    "print(df_cleaned.shape)\n",
    "#Verifying the count of NaN values in each column after imputing missing data rows\n",
    "print(\"Count of NaN Values in Each Column:\")\n",
    "print(nan_count_per_column)\n",
    "data=df_cleaned"
   ]
  },
  {
   "cell_type": "code",
   "execution_count": 6,
   "id": "c7abd49b-2323-45e5-809c-2d0685ede96f",
   "metadata": {},
   "outputs": [
    {
     "name": "stdout",
     "output_type": "stream",
     "text": [
      "(86247, 121)\n",
      "[0 1]\n",
      "0    34343\n",
      "1     8781\n",
      "Name: labels, dtype: int64\n"
     ]
    },
    {
     "name": "stderr",
     "output_type": "stream",
     "text": [
      "<ipython-input-6-f23f317e70f8>:2: SettingWithCopyWarning: \n",
      "A value is trying to be set on a copy of a slice from a DataFrame.\n",
      "Try using .loc[row_indexer,col_indexer] = value instead\n",
      "\n",
      "See the caveats in the documentation: https://pandas.pydata.org/pandas-docs/stable/user_guide/indexing.html#returning-a-view-versus-a-copy\n",
      "  data['labels'] = data['labels'].replace([b'back.', b'land.', b'neptune.', b'pod.', b'smurf.', b'teardrop.'], 1, inplace=False)\n",
      "<ipython-input-6-f23f317e70f8>:3: SettingWithCopyWarning: \n",
      "A value is trying to be set on a copy of a slice from a DataFrame.\n",
      "Try using .loc[row_indexer,col_indexer] = value instead\n",
      "\n",
      "See the caveats in the documentation: https://pandas.pydata.org/pandas-docs/stable/user_guide/indexing.html#returning-a-view-versus-a-copy\n",
      "  data['labels'] = data['labels'].apply(lambda x: 0 if x != 1 else x)\n"
     ]
    }
   ],
   "source": [
    "#Marking the dos attacks as 1 and non-dos attacks as 0\n",
    "data['labels'] = data['labels'].replace([b'back.', b'land.', b'neptune.', b'pod.', b'smurf.', b'teardrop.'], 1, inplace=False)\n",
    "data['labels'] = data['labels'].apply(lambda x: 0 if x != 1 else x)\n",
    "print(data.shape)\n",
    "#taking a 50% sample of the data to save computational power\n",
    "data = data.sample(frac=0.5, random_state=42)\n",
    "print(data['labels'].unique())\n",
    "print(data['labels'].value_counts())"
   ]
  },
  {
   "cell_type": "code",
   "execution_count": 7,
   "id": "18b95b90-c5a2-47d9-80f1-985db14eff7a",
   "metadata": {},
   "outputs": [
    {
     "data": {
      "text/plain": [
       "0    8781\n",
       "1    8781\n",
       "Name: labels, dtype: int64"
      ]
     },
     "execution_count": 7,
     "metadata": {},
     "output_type": "execute_result"
    }
   ],
   "source": [
    "#Creating X as a dataframe of features and y as a dataframe of labels\n",
    "X = data.drop(columns=['labels'])\n",
    "y = data['labels']\n",
    "\n",
    "#sampling the data to ensure a balanced training and testing set\n",
    "under_sampler = RandomUnderSampler(sampling_strategy='auto', random_state=10)\n",
    "X_resampled, y_resampled = under_sampler.fit_resample(X, y)\n",
    "y_resampled.value_counts()"
   ]
  },
  {
   "cell_type": "code",
   "execution_count": 8,
   "id": "12aa8d0f-7278-4f94-868a-733bde29ef7f",
   "metadata": {},
   "outputs": [],
   "source": [
    "# Scaling the data using MinMaxScaler\n",
    "scaler=MinMaxScaler()\n",
    "X_resampled=scaler.fit_transform(X_resampled)"
   ]
  },
  {
   "cell_type": "code",
   "execution_count": 9,
   "id": "9941ce89-5d78-4948-9fe5-61a170c067db",
   "metadata": {},
   "outputs": [],
   "source": [
    "#splitting the resampled data into training and testing set\n",
    "X_train, X_test, y_train, y_test = train_test_split(X_resampled, y_resampled, test_size=0.2, random_state=42)"
   ]
  },
  {
   "cell_type": "markdown",
   "id": "74b7493a-bda7-4664-aba7-8fdbd9b81beb",
   "metadata": {},
   "source": [
    "\n",
    "---\n",
    "\n",
    "### 2. Running the 4 kernels of SVM and comparing their results"
   ]
  },
  {
   "cell_type": "code",
   "execution_count": 10,
   "id": "04deec15-fada-4d93-b75d-a2d54cbe175b",
   "metadata": {},
   "outputs": [
    {
     "name": "stdout",
     "output_type": "stream",
     "text": [
      "Accuracy: 0.9923142613151152\n"
     ]
    }
   ],
   "source": [
    "#Training the SVM using the linear kernel\n",
    "svm_model = SVC(kernel='linear')\n",
    "svm_model.fit(X_train, y_train)\n",
    "y_pred = svm_model.predict(X_test)\n",
    "accuracy = accuracy_score(y_test, y_pred)\n",
    "print(\"Accuracy:\", accuracy)"
   ]
  },
  {
   "cell_type": "code",
   "execution_count": 11,
   "id": "107e2818-3f8d-42bc-b36c-f533da1e1cba",
   "metadata": {},
   "outputs": [
    {
     "name": "stdout",
     "output_type": "stream",
     "text": [
      "Accuracy: 0.9988613720466838\n"
     ]
    }
   ],
   "source": [
    "#Training the SVM using the polynomial kernel\n",
    "svm_model = SVC(kernel='poly',C=0.5,gamma=0.7)\n",
    "svm_model.fit(X_train, y_train)\n",
    "y_pred = svm_model.predict(X_test)\n",
    "accuracy = accuracy_score(y_test, y_pred)\n",
    "print(\"Accuracy:\", accuracy)"
   ]
  },
  {
   "cell_type": "code",
   "execution_count": 12,
   "id": "b7338d31-eaff-40bf-85f9-1ac82f282ac3",
   "metadata": {},
   "outputs": [
    {
     "name": "stdout",
     "output_type": "stream",
     "text": [
      "Accuracy: 0.9982920580700256\n"
     ]
    }
   ],
   "source": [
    "#Training the SVM using the rbf kernel\n",
    "svm_model = SVC(kernel='rbf',C=10,gamma=0.7)\n",
    "svm_model.fit(X_train, y_train)\n",
    "y_pred = svm_model.predict(X_test)\n",
    "accuracy = accuracy_score(y_test, y_pred)\n",
    "print(\"Accuracy:\", accuracy)"
   ]
  },
  {
   "cell_type": "code",
   "execution_count": 13,
   "id": "64ef7a11-58db-4287-85d9-16f0d0941ca8",
   "metadata": {},
   "outputs": [
    {
     "name": "stdout",
     "output_type": "stream",
     "text": [
      "Accuracy: 0.9644178764588671\n"
     ]
    }
   ],
   "source": [
    "#Training the SVM using the sigmoid kernel\n",
    "svm_model = SVC(kernel='sigmoid',gamma=0.05)\n",
    "svm_model.fit(X_train, y_train)\n",
    "y_pred = svm_model.predict(X_test)\n",
    "accuracy = accuracy_score(y_test, y_pred)\n",
    "print(\"Accuracy:\", accuracy)"
   ]
  },
  {
   "cell_type": "markdown",
   "id": "7e4432a5-e6a2-4b77-910a-1da0546b43a6",
   "metadata": {},
   "source": [
    "### The accuracies for the 4 kernels are as follows:\n",
    "#### Linear: 0.9923 \n",
    "##### Pros: \n",
    "##### a) It is a simple kernel which works well with linearly seperable data. In this case it provides good accuracy which means the data is largely linearly seperable.\n",
    "##### b) It is computationally simple so it is faster as compared to other kernels.\n",
    "##### Cons: \n",
    "##### a) Doesn't work well with linearly inseperable data.\n",
    "#### Polynomial:0.9988 \n",
    "##### Pros:\n",
    "##### a) It is able to draw the decision boundary as a polynomial function. So, it can work with linearly inseperable data as well.\n",
    "##### Cons:\n",
    "##### a) Computationally expensive.\n",
    "##### b) Cannot optimally classify data that can't be seperated by polynomial functions \n",
    "#### RBF: 0.9982\n",
    "##### Pros:\n",
    "##### a) BF kernels are highly flexible and can capture complex, nonlinear relationships in the data. They are effective for handling data that is not linearly separable.\n",
    "##### b) Prone to overfitting.\n",
    "##### Cons:\n",
    "##### a) RBF kernels are computationally more intensive than linear kernels. They require calculating the distance between data points in a high-dimensional space.\n",
    "#### Sigmoid: 0.9644\n",
    "##### Pros:\n",
    "##### a) Sigmoid kernels can capture a wide range of relationships, including S-shaped curves.\n",
    "##### Cons:\n",
    "##### b) Sigmoid kernels can be sensitive to the choice of hyperparameters."
   ]
  },
  {
   "cell_type": "markdown",
   "id": "62a5900d-20ee-43a8-9717-398b651abe3a",
   "metadata": {},
   "source": [
    "\n",
    "---\n",
    "\n",
    "### Training the data on 2 most important features using Linear and RBF kernel"
   ]
  },
  {
   "cell_type": "code",
   "execution_count": 14,
   "id": "352b8087-4267-469b-8987-c6b84fe48919",
   "metadata": {},
   "outputs": [
    {
     "name": "stdout",
     "output_type": "stream",
     "text": [
      "(4312, 2)\n",
      "<class 'pandas.core.frame.DataFrame'>\n"
     ]
    }
   ],
   "source": [
    "# sub-sampling the dataset to make plotting the graph time efficient\n",
    "data = data.sample(frac=0.1, random_state=42)\n",
    "#choosing 2 features to plot the graph\n",
    "X = data[['dst_host_count','count']]\n",
    "y = data['labels'] \n",
    "print(X.shape)\n",
    "print(type(X))"
   ]
  },
  {
   "cell_type": "code",
   "execution_count": 15,
   "id": "d27d88c5-9d80-415c-8a3b-76b523bd0c04",
   "metadata": {},
   "outputs": [
    {
     "name": "stdout",
     "output_type": "stream",
     "text": [
      "0    906\n",
      "1    906\n",
      "Name: labels, dtype: int64\n",
      "255\n"
     ]
    }
   ],
   "source": [
    "#sampling the data to ensure a balanced training and testing set\n",
    "under_sampler = RandomUnderSampler(sampling_strategy='auto', random_state=10)\n",
    "X_resampled, y_resampled = under_sampler.fit_resample(X, y)\n",
    "print(y_resampled.value_counts())\n",
    "print(X_resampled.iloc[1,0])"
   ]
  },
  {
   "cell_type": "code",
   "execution_count": 16,
   "id": "696131ab-e5cf-4c0f-870d-e99d28b51bd3",
   "metadata": {},
   "outputs": [
    {
     "name": "stdout",
     "output_type": "stream",
     "text": [
      "<class 'numpy.ndarray'>\n"
     ]
    }
   ],
   "source": [
    "#Scaling the data\n",
    "scaler=MinMaxScaler()\n",
    "X_resampled=scaler.fit_transform(X_resampled)\n",
    "print(type(X_resampled))"
   ]
  },
  {
   "cell_type": "code",
   "execution_count": 17,
   "id": "a1b13d1e-8799-4b2a-9ba6-319cdf71d8a3",
   "metadata": {},
   "outputs": [],
   "source": [
    "#Splitting the dataset into training and testing set\n",
    "X_train, X_test, y_train, y_test = train_test_split(X_resampled, y_resampled, test_size=0.2, random_state=42)"
   ]
  },
  {
   "cell_type": "code",
   "execution_count": 18,
   "id": "d00fa225-ef95-4d71-a8eb-e2e06202dd38",
   "metadata": {},
   "outputs": [
    {
     "name": "stdout",
     "output_type": "stream",
     "text": [
      "Accuracy: 0.9338842975206612\n"
     ]
    }
   ],
   "source": [
    "#Training linear kernel using 2 features\n",
    "svm_model = SVC(kernel='linear')\n",
    "svm_model.fit(X_train, y_train)\n",
    "y_pred = svm_model.predict(X_test)\n",
    "accuracy = accuracy_score(y_test, y_pred)\n",
    "print(\"Accuracy:\", accuracy)"
   ]
  },
  {
   "cell_type": "code",
   "execution_count": 19,
   "id": "4e8e09b4-1af1-46af-ab82-20caadd83793",
   "metadata": {},
   "outputs": [
    {
     "name": "stdout",
     "output_type": "stream",
     "text": [
      "Accuracy: 0.9366391184573003\n"
     ]
    }
   ],
   "source": [
    "#Training rbf kernel using 2 features\n",
    "svm_model = SVC(kernel='rbf',gamma=0.7, C=1)\n",
    "svm_model.fit(X_train, y_train)\n",
    "y_pred = svm_model.predict(X_test)\n",
    "accuracy = accuracy_score(y_test, y_pred)\n",
    "print(\"Accuracy:\", accuracy)"
   ]
  },
  {
   "cell_type": "code",
   "execution_count": 20,
   "id": "3d2061cc-7722-44cb-9738-bf71d81f2537",
   "metadata": {},
   "outputs": [
    {
     "data": {
      "image/png": "[encoded data removed]",
      "text/plain": [
       "<Figure size 720x576 with 2 Axes>"
      ]
     },
     "metadata": {
      "needs_background": "light"
     },
     "output_type": "display_data"
    }
   ],
   "source": [
    "from sklearn.inspection import DecisionBoundaryDisplay\n",
    "# we create an instance of SVM and fit out data. We do not scale our\n",
    "# data since we want to plot the support vectors\n",
    "C = 1.0  # SVM regularization parameter\n",
    "models = (\n",
    "    SVC(kernel=\"linear\", C=1),\n",
    "    SVC(kernel=\"rbf\", gamma=0.7, C=1),\n",
    ")\n",
    "models = (clf.fit(X_train, y_train) for clf in models)\n",
    "\n",
    "# title for the plots\n",
    "titles = (\n",
    "    \"SVC with linear kernel\",\n",
    "    \"SVC with RBF kernel\"\n",
    ")\n",
    "\n",
    "# Set-up 1x2 grid for plotting.\n",
    "fig, sub = plt.subplots(1, 2,figsize=(10, 8))\n",
    "plt.subplots_adjust(wspace=0.4, hspace=0.4)\n",
    "\n",
    "X0, X1 = X_train[:, 0], X_train[:, 1]\n",
    "\n",
    "for clf, title, ax in zip(models, titles, sub.flatten()):\n",
    "    disp = DecisionBoundaryDisplay.from_estimator(\n",
    "        clf,\n",
    "        X_train,\n",
    "        response_method=\"predict\",\n",
    "        cmap=plt.cm.coolwarm,\n",
    "        alpha=0.5,\n",
    "        ax=ax,\n",
    "        xlabel=\"dst_host_count\",\n",
    "        ylabel=\"count\",\n",
    "    )\n",
    "    ax.scatter(X0, X1, c=y_train, cmap=plt.cm.coolwarm, s=20, edgecolors=\"k\")\n",
    "    ax.set_xticks([-1,0,1,2])\n",
    "    ax.set_yticks(())\n",
    "    ax.set_title(title)\n",
    "\n",
    "plt.show()"
   ]
  },
  {
   "cell_type": "markdown",
   "id": "627dc87c-0d90-459b-9a8d-b16963d778a5",
   "metadata": {},
   "source": [
    "#### Observations:\n",
    "##### dst_host_count and count seem to affect the classification a lot since using these 2 alone gives us a classification with over 93% accuracy\n",
    "##### On decreasing the number of features, the accuracy descreases significantly as expected.\n",
    "##### The linear kernel draws a straight line to seperate the 2 labels.\n",
    "##### the rbf kernel draws a circular/elliptical shape.\n",
    "##### The difference in the accuracy is quite less indicatin that the data is largely linearly seperable.\n",
    "##### Finetuning the hyperparameters does't affect the accuracy drastically."
   ]
  }
 ],
 "metadata": {
  "kernelspec": {
   "display_name": "Python 3",
   "language": "python",
   "name": "python3"
  },
  "language_info": {
   "codemirror_mode": {
    "name": "ipython",
    "version": 3
   },
   "file_extension": ".py",
   "mimetype": "text/x-python",
   "name": "python",
   "nbconvert_exporter": "python",
   "pygments_lexer": "ipython3",
   "version": "3.9.5"
  }
 },
 "nbformat": 4,
 "nbformat_minor": 5
}
