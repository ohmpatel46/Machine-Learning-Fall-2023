{
 "cells": [
  {
   "cell_type": "code",
   "execution_count": 1,
   "id": "971ce1c5-2c41-489e-8b37-3210f49f5629",
   "metadata": {},
   "outputs": [],
   "source": [
    "import pandas as pd\n",
    "import numpy as np\n",
    "import matplotlib.pyplot as plt\n",
    "import seaborn as sns\n",
    "from sklearn.model_selection import train_test_split\n",
    "from sklearn.metrics import accuracy_score\n",
    "from sklearn.preprocessing import StandardScaler\n",
    "from sklearn.preprocessing import LabelEncoder\n",
    "from mlxtend.plotting import plot_decision_regions\n",
    "from collections import Counter\n",
    "from sklearn.datasets import make_classification\n",
    "from imblearn.under_sampling import RandomUnderSampler\n",
    "from sklearn.preprocessing import OneHotEncoder\n",
    "from sklearn.linear_model import LogisticRegression\n",
    "from sklearn.metrics import accuracy_score, classification_report, confusion_matrix"
   ]
  },
  {
   "cell_type": "code",
   "execution_count": 2,
   "id": "1268ea94-dd68-4f67-94ea-4a2693f347bd",
   "metadata": {
    "scrolled": true
   },
   "outputs": [
    {
     "name": "stdout",
     "output_type": "stream",
     "text": [
      "  duration protocol_type  service   flag src_bytes dst_bytes land  \\\n",
      "0        0        b'tcp'  b'http'  b'SF'       181      5450    0   \n",
      "1        0        b'tcp'  b'http'  b'SF'       239       486    0   \n",
      "2        0        b'tcp'  b'http'  b'SF'       235      1337    0   \n",
      "3        0        b'tcp'  b'http'  b'SF'       219      1337    0   \n",
      "4        0        b'tcp'  b'http'  b'SF'       217      2032    0   \n",
      "\n",
      "  wrong_fragment urgent hot num_failed_logins logged_in num_compromised  \\\n",
      "0              0      0   0                 0         1               0   \n",
      "1              0      0   0                 0         1               0   \n",
      "2              0      0   0                 0         1               0   \n",
      "3              0      0   0                 0         1               0   \n",
      "4              0      0   0                 0         1               0   \n",
      "\n",
      "  root_shell su_attempted num_root num_file_creations num_shells  \\\n",
      "0          0            0        0                  0          0   \n",
      "1          0            0        0                  0          0   \n",
      "2          0            0        0                  0          0   \n",
      "3          0            0        0                  0          0   \n",
      "4          0            0        0                  0          0   \n",
      "\n",
      "  num_access_files num_outbound_cmds is_host_login is_guest_login count  \\\n",
      "0                0                 0             0              0     8   \n",
      "1                0                 0             0              0     8   \n",
      "2                0                 0             0              0     8   \n",
      "3                0                 0             0              0     6   \n",
      "4                0                 0             0              0     6   \n",
      "\n",
      "  srv_count serror_rate srv_serror_rate rerror_rate srv_rerror_rate  \\\n",
      "0         8         0.0             0.0         0.0             0.0   \n",
      "1         8         0.0             0.0         0.0             0.0   \n",
      "2         8         0.0             0.0         0.0             0.0   \n",
      "3         6         0.0             0.0         0.0             0.0   \n",
      "4         6         0.0             0.0         0.0             0.0   \n",
      "\n",
      "  same_srv_rate diff_srv_rate srv_diff_host_rate dst_host_count  \\\n",
      "0           1.0           0.0                0.0              9   \n",
      "1           1.0           0.0                0.0             19   \n",
      "2           1.0           0.0                0.0             29   \n",
      "3           1.0           0.0                0.0             39   \n",
      "4           1.0           0.0                0.0             49   \n",
      "\n",
      "  dst_host_srv_count dst_host_same_srv_rate dst_host_diff_srv_rate  \\\n",
      "0                  9                    1.0                    0.0   \n",
      "1                 19                    1.0                    0.0   \n",
      "2                 29                    1.0                    0.0   \n",
      "3                 39                    1.0                    0.0   \n",
      "4                 49                    1.0                    0.0   \n",
      "\n",
      "  dst_host_same_src_port_rate dst_host_srv_diff_host_rate  \\\n",
      "0                        0.11                         0.0   \n",
      "1                        0.05                         0.0   \n",
      "2                        0.03                         0.0   \n",
      "3                        0.03                         0.0   \n",
      "4                        0.02                         0.0   \n",
      "\n",
      "  dst_host_serror_rate dst_host_srv_serror_rate dst_host_rerror_rate  \\\n",
      "0                  0.0                      0.0                  0.0   \n",
      "1                  0.0                      0.0                  0.0   \n",
      "2                  0.0                      0.0                  0.0   \n",
      "3                  0.0                      0.0                  0.0   \n",
      "4                  0.0                      0.0                  0.0   \n",
      "\n",
      "  dst_host_srv_rerror_rate      labels  \n",
      "0                      0.0  b'normal.'  \n",
      "1                      0.0  b'normal.'  \n",
      "2                      0.0  b'normal.'  \n",
      "3                      0.0  b'normal.'  \n",
      "4                      0.0  b'normal.'  \n"
     ]
    }
   ],
   "source": [
    "#Fetching 10 percent of the database and dropping duplicate values\n",
    "from sklearn.datasets import fetch_kddcup99\n",
    "pd.options.display.max_columns = None\n",
    "data = fetch_kddcup99(percent10=True, as_frame=True)[\"frame\"]\n",
    "data = data.drop_duplicates();\n",
    "print(data.head())"
   ]
  },
  {
   "cell_type": "code",
   "execution_count": 3,
   "id": "de0d6b2f-0903-48eb-9173-03e684adbd72",
   "metadata": {
    "scrolled": true
   },
   "outputs": [
    {
     "name": "stdout",
     "output_type": "stream",
     "text": [
      "(317205, 121)\n",
      "  duration src_bytes dst_bytes land wrong_fragment urgent hot  \\\n",
      "0        0       181      5450    0              0      0   0   \n",
      "1        0       239       486    0              0      0   0   \n",
      "2        0       235      1337    0              0      0   0   \n",
      "3        0       219      1337    0              0      0   0   \n",
      "4        0       217      2032    0              0      0   0   \n",
      "\n",
      "  num_failed_logins logged_in num_compromised root_shell su_attempted  \\\n",
      "0                 0         1               0          0            0   \n",
      "1                 0         1               0          0            0   \n",
      "2                 0         1               0          0            0   \n",
      "3                 0         1               0          0            0   \n",
      "4                 0         1               0          0            0   \n",
      "\n",
      "  num_root num_file_creations num_shells num_access_files num_outbound_cmds  \\\n",
      "0        0                  0          0                0                 0   \n",
      "1        0                  0          0                0                 0   \n",
      "2        0                  0          0                0                 0   \n",
      "3        0                  0          0                0                 0   \n",
      "4        0                  0          0                0                 0   \n",
      "\n",
      "  is_host_login is_guest_login count srv_count serror_rate srv_serror_rate  \\\n",
      "0             0              0     8         8         0.0             0.0   \n",
      "1             0              0     8         8         0.0             0.0   \n",
      "2             0              0     8         8         0.0             0.0   \n",
      "3             0              0     6         6         0.0             0.0   \n",
      "4             0              0     6         6         0.0             0.0   \n",
      "\n",
      "  rerror_rate srv_rerror_rate same_srv_rate diff_srv_rate srv_diff_host_rate  \\\n",
      "0         0.0             0.0           1.0           0.0                0.0   \n",
      "1         0.0             0.0           1.0           0.0                0.0   \n",
      "2         0.0             0.0           1.0           0.0                0.0   \n",
      "3         0.0             0.0           1.0           0.0                0.0   \n",
      "4         0.0             0.0           1.0           0.0                0.0   \n",
      "\n",
      "  dst_host_count dst_host_srv_count dst_host_same_srv_rate  \\\n",
      "0              9                  9                    1.0   \n",
      "1             19                 19                    1.0   \n",
      "2             29                 29                    1.0   \n",
      "3             39                 39                    1.0   \n",
      "4             49                 49                    1.0   \n",
      "\n",
      "  dst_host_diff_srv_rate dst_host_same_src_port_rate  \\\n",
      "0                    0.0                        0.11   \n",
      "1                    0.0                        0.05   \n",
      "2                    0.0                        0.03   \n",
      "3                    0.0                        0.03   \n",
      "4                    0.0                        0.02   \n",
      "\n",
      "  dst_host_srv_diff_host_rate dst_host_serror_rate dst_host_srv_serror_rate  \\\n",
      "0                         0.0                  0.0                      0.0   \n",
      "1                         0.0                  0.0                      0.0   \n",
      "2                         0.0                  0.0                      0.0   \n",
      "3                         0.0                  0.0                      0.0   \n",
      "4                         0.0                  0.0                      0.0   \n",
      "\n",
      "  dst_host_rerror_rate dst_host_srv_rerror_rate      labels  \\\n",
      "0                  0.0                      0.0  b'normal.'   \n",
      "1                  0.0                      0.0  b'normal.'   \n",
      "2                  0.0                      0.0  b'normal.'   \n",
      "3                  0.0                      0.0  b'normal.'   \n",
      "4                  0.0                      0.0  b'normal.'   \n",
      "\n",
      "   protocol_type_b'icmp'  protocol_type_b'tcp'  protocol_type_b'udp'  \\\n",
      "0                    0.0                   1.0                   0.0   \n",
      "1                    0.0                   1.0                   0.0   \n",
      "2                    0.0                   1.0                   0.0   \n",
      "3                    0.0                   1.0                   0.0   \n",
      "4                    0.0                   1.0                   0.0   \n",
      "\n",
      "   service_b'IRC'  service_b'X11'  service_b'Z39_50'  service_b'auth'  \\\n",
      "0             0.0             0.0                0.0              0.0   \n",
      "1             0.0             0.0                0.0              0.0   \n",
      "2             0.0             0.0                0.0              0.0   \n",
      "3             0.0             0.0                0.0              0.0   \n",
      "4             0.0             0.0                0.0              0.0   \n",
      "\n",
      "   service_b'bgp'  service_b'courier'  service_b'csnet_ns'  service_b'ctf'  \\\n",
      "0             0.0                 0.0                  0.0             0.0   \n",
      "1             0.0                 0.0                  0.0             0.0   \n",
      "2             0.0                 0.0                  0.0             0.0   \n",
      "3             0.0                 0.0                  0.0             0.0   \n",
      "4             0.0                 0.0                  0.0             0.0   \n",
      "\n",
      "   service_b'daytime'  service_b'discard'  service_b'domain'  \\\n",
      "0                 0.0                 0.0                0.0   \n",
      "1                 0.0                 0.0                0.0   \n",
      "2                 0.0                 0.0                0.0   \n",
      "3                 0.0                 0.0                0.0   \n",
      "4                 0.0                 0.0                0.0   \n",
      "\n",
      "   service_b'domain_u'  service_b'echo'  service_b'eco_i'  service_b'ecr_i'  \\\n",
      "0                  0.0              0.0               0.0               0.0   \n",
      "1                  0.0              0.0               0.0               0.0   \n",
      "2                  0.0              0.0               0.0               0.0   \n",
      "3                  0.0              0.0               0.0               0.0   \n",
      "4                  0.0              0.0               0.0               0.0   \n",
      "\n",
      "   service_b'efs'  service_b'exec'  service_b'finger'  service_b'ftp'  \\\n",
      "0             0.0              0.0                0.0             0.0   \n",
      "1             0.0              0.0                0.0             0.0   \n",
      "2             0.0              0.0                0.0             0.0   \n",
      "3             0.0              0.0                0.0             0.0   \n",
      "4             0.0              0.0                0.0             0.0   \n",
      "\n",
      "   service_b'ftp_data'  service_b'gopher'  service_b'hostnames'  \\\n",
      "0                  0.0                0.0                   0.0   \n",
      "1                  0.0                0.0                   0.0   \n",
      "2                  0.0                0.0                   0.0   \n",
      "3                  0.0                0.0                   0.0   \n",
      "4                  0.0                0.0                   0.0   \n",
      "\n",
      "   service_b'http'  service_b'http_443'  service_b'imap4'  \\\n",
      "0              1.0                  0.0               0.0   \n",
      "1              1.0                  0.0               0.0   \n",
      "2              1.0                  0.0               0.0   \n",
      "3              1.0                  0.0               0.0   \n",
      "4              1.0                  0.0               0.0   \n",
      "\n",
      "   service_b'iso_tsap'  service_b'klogin'  service_b'kshell'  service_b'ldap'  \\\n",
      "0                  0.0                0.0                0.0              0.0   \n",
      "1                  0.0                0.0                0.0              0.0   \n",
      "2                  0.0                0.0                0.0              0.0   \n",
      "3                  0.0                0.0                0.0              0.0   \n",
      "4                  0.0                0.0                0.0              0.0   \n",
      "\n",
      "   service_b'link'  service_b'login'  service_b'mtp'  service_b'name'  \\\n",
      "0              0.0               0.0             0.0              0.0   \n",
      "1              0.0               0.0             0.0              0.0   \n",
      "2              0.0               0.0             0.0              0.0   \n",
      "3              0.0               0.0             0.0              0.0   \n",
      "4              0.0               0.0             0.0              0.0   \n",
      "\n",
      "   service_b'netbios_dgm'  service_b'netbios_ns'  service_b'netbios_ssn'  \\\n",
      "0                     0.0                    0.0                     0.0   \n",
      "1                     0.0                    0.0                     0.0   \n",
      "2                     0.0                    0.0                     0.0   \n",
      "3                     0.0                    0.0                     0.0   \n",
      "4                     0.0                    0.0                     0.0   \n",
      "\n",
      "   service_b'netstat'  service_b'nnsp'  service_b'nntp'  service_b'ntp_u'  \\\n",
      "0                 0.0              0.0              0.0               0.0   \n",
      "1                 0.0              0.0              0.0               0.0   \n",
      "2                 0.0              0.0              0.0               0.0   \n",
      "3                 0.0              0.0              0.0               0.0   \n",
      "4                 0.0              0.0              0.0               0.0   \n",
      "\n",
      "   service_b'other'  service_b'pm_dump'  service_b'pop_2'  service_b'pop_3'  \\\n",
      "0               0.0                 0.0               0.0               0.0   \n",
      "1               0.0                 0.0               0.0               0.0   \n",
      "2               0.0                 0.0               0.0               0.0   \n",
      "3               0.0                 0.0               0.0               0.0   \n",
      "4               0.0                 0.0               0.0               0.0   \n",
      "\n",
      "   service_b'printer'  service_b'private'  service_b'red_i'  \\\n",
      "0                 0.0                 0.0               0.0   \n",
      "1                 0.0                 0.0               0.0   \n",
      "2                 0.0                 0.0               0.0   \n",
      "3                 0.0                 0.0               0.0   \n",
      "4                 0.0                 0.0               0.0   \n",
      "\n",
      "   service_b'remote_job'  service_b'rje'  service_b'shell'  service_b'smtp'  \\\n",
      "0                    0.0             0.0               0.0              0.0   \n",
      "1                    0.0             0.0               0.0              0.0   \n",
      "2                    0.0             0.0               0.0              0.0   \n",
      "3                    0.0             0.0               0.0              0.0   \n",
      "4                    0.0             0.0               0.0              0.0   \n",
      "\n",
      "   service_b'sql_net'  service_b'ssh'  service_b'sunrpc'  service_b'supdup'  \\\n",
      "0                 0.0             0.0                0.0                0.0   \n",
      "1                 0.0             0.0                0.0                0.0   \n",
      "2                 0.0             0.0                0.0                0.0   \n",
      "3                 0.0             0.0                0.0                0.0   \n",
      "4                 0.0             0.0                0.0                0.0   \n",
      "\n",
      "   service_b'systat'  service_b'telnet'  service_b'tftp_u'  service_b'tim_i'  \\\n",
      "0                0.0                0.0                0.0               0.0   \n",
      "1                0.0                0.0                0.0               0.0   \n",
      "2                0.0                0.0                0.0               0.0   \n",
      "3                0.0                0.0                0.0               0.0   \n",
      "4                0.0                0.0                0.0               0.0   \n",
      "\n",
      "   service_b'time'  service_b'urh_i'  service_b'urp_i'  service_b'uucp'  \\\n",
      "0              0.0               0.0               0.0              0.0   \n",
      "1              0.0               0.0               0.0              0.0   \n",
      "2              0.0               0.0               0.0              0.0   \n",
      "3              0.0               0.0               0.0              0.0   \n",
      "4              0.0               0.0               0.0              0.0   \n",
      "\n",
      "   service_b'uucp_path'  service_b'vmnet'  service_b'whois'  service_nan  \\\n",
      "0                   0.0               0.0               0.0          0.0   \n",
      "1                   0.0               0.0               0.0          0.0   \n",
      "2                   0.0               0.0               0.0          0.0   \n",
      "3                   0.0               0.0               0.0          0.0   \n",
      "4                   0.0               0.0               0.0          0.0   \n",
      "\n",
      "   flag_b'OTH'  flag_b'REJ'  flag_b'RSTO'  flag_b'RSTOS0'  flag_b'RSTR'  \\\n",
      "0          0.0          0.0           0.0             0.0           0.0   \n",
      "1          0.0          0.0           0.0             0.0           0.0   \n",
      "2          0.0          0.0           0.0             0.0           0.0   \n",
      "3          0.0          0.0           0.0             0.0           0.0   \n",
      "4          0.0          0.0           0.0             0.0           0.0   \n",
      "\n",
      "   flag_b'S0'  flag_b'S1'  flag_b'S2'  flag_b'S3'  flag_b'SF'  flag_b'SH'  \\\n",
      "0         0.0         0.0         0.0         0.0         1.0         0.0   \n",
      "1         0.0         0.0         0.0         0.0         1.0         0.0   \n",
      "2         0.0         0.0         0.0         0.0         1.0         0.0   \n",
      "3         0.0         0.0         0.0         0.0         1.0         0.0   \n",
      "4         0.0         0.0         0.0         0.0         1.0         0.0   \n",
      "\n",
      "   flag_nan  \n",
      "0       0.0  \n",
      "1       0.0  \n",
      "2       0.0  \n",
      "3       0.0  \n",
      "4       0.0  \n"
     ]
    }
   ],
   "source": [
    "#Encoding all the features with categorical data\n",
    "encoder = OneHotEncoder()\n",
    "\n",
    "#encoding protocol_type\n",
    "encoded_data = encoder.fit_transform(data[['protocol_type']])\n",
    "encoded_data_array = encoded_data.toarray()\n",
    "encoded_data_df = pd.DataFrame(encoded_data_array, columns=encoder.get_feature_names_out(['protocol_type']))\n",
    "df_final = pd.concat([data.drop(['protocol_type'], axis=1), encoded_data_df], axis=1)\n",
    "\n",
    "#encoding service\n",
    "encoded_data = encoder.fit_transform(df_final[['service']])\n",
    "encoded_data_array = encoded_data.toarray()\n",
    "encoded_data_df = pd.DataFrame(encoded_data_array, columns=encoder.get_feature_names_out(['service']))\n",
    "df_final = pd.concat([df_final.drop(['service'], axis=1), encoded_data_df], axis=1)\n",
    "\n",
    "#encoding flag\n",
    "encoded_data = encoder.fit_transform(df_final[['flag']])\n",
    "encoded_data_array = encoded_data.toarray()\n",
    "encoded_data_df = pd.DataFrame(encoded_data_array, columns=encoder.get_feature_names_out(['flag']))\n",
    "df_final = pd.concat([df_final.drop(['flag'], axis=1), encoded_data_df], axis=1)\n",
    "\n",
    "print(df_final.shape)\n",
    "print(df_final.head())\n",
    "\n",
    "data=df_final"
   ]
  },
  {
   "cell_type": "code",
   "execution_count": 4,
   "id": "2f629d60-0624-4283-97e9-efd464d10ec3",
   "metadata": {},
   "outputs": [
    {
     "name": "stdout",
     "output_type": "stream",
     "text": [
      "Count of Rows with One or More Missing Values: 230958\n"
     ]
    }
   ],
   "source": [
    "#Finding the count of rows that have NaN or missing values\n",
    "missing_values = data.isna()\n",
    "rows_with_missing_values = missing_values.sum(axis=1) > 0\n",
    "count_rows_with_missing_values = rows_with_missing_values.sum()\n",
    "print(\"Count of Rows with One or More Missing Values:\", count_rows_with_missing_values)"
   ]
  },
  {
   "cell_type": "code",
   "execution_count": 5,
   "id": "689f6c90-8cfa-444f-8aaf-313d5e62895a",
   "metadata": {
    "scrolled": true
   },
   "outputs": [
    {
     "name": "stdout",
     "output_type": "stream",
     "text": [
      "[0 1]\n",
      "0    227242\n",
      "1      2131\n",
      "Name: labels, dtype: int64\n"
     ]
    },
    {
     "name": "stderr",
     "output_type": "stream",
     "text": [
      "<ipython-input-5-c0d506d8648d>:8: SettingWithCopyWarning: \n",
      "A value is trying to be set on a copy of a slice from a DataFrame.\n",
      "Try using .loc[row_indexer,col_indexer] = value instead\n",
      "\n",
      "See the caveats in the documentation: https://pandas.pydata.org/pandas-docs/stable/user_guide/indexing.html#returning-a-view-versus-a-copy\n",
      "  data['labels'] = data['labels'].replace([b'portsweep.', b'nmap.', b'ipsweep.', b'satan.'], 'probe', inplace=False)\n",
      "<ipython-input-5-c0d506d8648d>:9: SettingWithCopyWarning: \n",
      "A value is trying to be set on a copy of a slice from a DataFrame.\n",
      "Try using .loc[row_indexer,col_indexer] = value instead\n",
      "\n",
      "See the caveats in the documentation: https://pandas.pydata.org/pandas-docs/stable/user_guide/indexing.html#returning-a-view-versus-a-copy\n",
      "  data['labels'] = data['labels'].apply(lambda x: 'non-probe' if x != 'probe' else x)\n",
      "<ipython-input-5-c0d506d8648d>:12: SettingWithCopyWarning: \n",
      "A value is trying to be set on a copy of a slice from a DataFrame.\n",
      "Try using .loc[row_indexer,col_indexer] = value instead\n",
      "\n",
      "See the caveats in the documentation: https://pandas.pydata.org/pandas-docs/stable/user_guide/indexing.html#returning-a-view-versus-a-copy\n",
      "  data['labels'] = label_encoder.fit_transform(data['labels'])\n"
     ]
    }
   ],
   "source": [
    "#Changing all the probe attack labels to 'probe' and the rest to 'non-probe'\n",
    "data = data[data['labels'] != b'normal.']\n",
    "for x in data['labels']:\n",
    "    if x== b'portsweep.' or b'nmap.' or b'ipsweep.' or b'satan.':\n",
    "        x='probe'\n",
    "    else:\n",
    "        x='non-probe'\n",
    "data['labels'] = data['labels'].replace([b'portsweep.', b'nmap.', b'ipsweep.', b'satan.'], 'probe', inplace=False)\n",
    "data['labels'] = data['labels'].apply(lambda x: 'non-probe' if x != 'probe' else x)\n",
    "# converting labels for non-probes to 0 and probes to 1\n",
    "label_encoder = LabelEncoder()\n",
    "data['labels'] = label_encoder.fit_transform(data['labels'])\n",
    "print(data['labels'].unique())\n",
    "print(data['labels'].value_counts())"
   ]
  },
  {
   "cell_type": "code",
   "execution_count": 6,
   "id": "b46debc6-170e-4807-a4b8-74092c7d7588",
   "metadata": {},
   "outputs": [
    {
     "name": "stdout",
     "output_type": "stream",
     "text": [
      "Count of NaN Values in Each Column:\n",
      "duration          171619\n",
      "src_bytes         171619\n",
      "dst_bytes         171619\n",
      "land              171619\n",
      "wrong_fragment    171619\n",
      "                   ...  \n",
      "flag_b'S2'         37046\n",
      "flag_b'S3'         37046\n",
      "flag_b'SF'         37046\n",
      "flag_b'SH'         37046\n",
      "flag_nan           37046\n",
      "Length: 121, dtype: int64\n",
      "(19994, 121)\n",
      "Count of NaN Values in Each Column:\n",
      "duration          0\n",
      "src_bytes         0\n",
      "dst_bytes         0\n",
      "land              0\n",
      "wrong_fragment    0\n",
      "                 ..\n",
      "flag_b'S2'        0\n",
      "flag_b'S3'        0\n",
      "flag_b'SF'        0\n",
      "flag_b'SH'        0\n",
      "flag_nan          0\n",
      "Length: 121, dtype: int64\n"
     ]
    }
   ],
   "source": [
    "#checking count of NaN values per column\n",
    "nan_count_per_column = data.isna().sum()\n",
    "print(\"Count of NaN Values in Each Column:\")\n",
    "print(nan_count_per_column)\n",
    "#dropping rows with null values\n",
    "#Even though the number of rows with NaN values is high, I chose to impute that data as it is better than replacing it with zeroes or median without\n",
    "#having the proper knowledge of what the central tendency of that field should look like\n",
    "df_cleaned = data.dropna()\n",
    "nan_count_per_column = df_cleaned.isna().sum()\n",
    "print(df_cleaned.shape)\n",
    "#Verifying the count of NaN values in each column after imputing missing data rows\n",
    "print(\"Count of NaN Values in Each Column:\")\n",
    "print(nan_count_per_column)\n",
    "data=df_cleaned"
   ]
  },
  {
   "cell_type": "code",
   "execution_count": 7,
   "id": "2bee0d41-aabe-4472-8664-d85cb2541512",
   "metadata": {},
   "outputs": [
    {
     "data": {
      "text/plain": [
       "0    1529\n",
       "1    1529\n",
       "Name: labels, dtype: int64"
      ]
     },
     "execution_count": 7,
     "metadata": {},
     "output_type": "execute_result"
    }
   ],
   "source": [
    "#Creating X as a dataframe of features and y as a dataframe of labels\n",
    "X = data.drop(columns=['labels'])\n",
    "y = data['labels']\n",
    "\n",
    "#sampling the data to ensure a balanced training and testing set\n",
    "under_sampler = RandomUnderSampler(sampling_strategy='auto', random_state=42)\n",
    "X_resampled, y_resampled = under_sampler.fit_resample(X, y)\n",
    "y_resampled.value_counts()"
   ]
  },
  {
   "cell_type": "code",
   "execution_count": 8,
   "id": "96cf0169-3448-469a-9caf-070357e52688",
   "metadata": {},
   "outputs": [],
   "source": [
    "#splitting the resampled data into training and testing set\n",
    "X_train, X_test, y_train, y_test = train_test_split(X_resampled, y_resampled, test_size=0.2, random_state=42)"
   ]
  },
  {
   "cell_type": "markdown",
   "id": "705e7595-f829-47b4-8c5c-670701775a5d",
   "metadata": {
    "jp-MarkdownHeadingCollapsed": true
   },
   "source": [
    "\n",
    "---\n",
    "\n",
    "### 4. With no regularization and using 'lbfgs' solver (lbfgs only works with either no penalty or l2 regularization)"
   ]
  },
  {
   "cell_type": "code",
   "execution_count": 9,
   "id": "89424844-94ee-4535-88ea-2ca67132c4e2",
   "metadata": {},
   "outputs": [
    {
     "name": "stdout",
     "output_type": "stream",
     "text": [
      "Accuracy: 0.8111201962387572\n",
      "Confusion Matrix:\n",
      " [[1161   55]\n",
      " [ 407  823]]\n",
      "Classification Report:\n",
      "               precision    recall  f1-score   support\n",
      "\n",
      "           0       0.74      0.95      0.83      1216\n",
      "           1       0.94      0.67      0.78      1230\n",
      "\n",
      "    accuracy                           0.81      2446\n",
      "   macro avg       0.84      0.81      0.81      2446\n",
      "weighted avg       0.84      0.81      0.81      2446\n",
      "\n"
     ]
    }
   ],
   "source": [
    "#Finding the training accuracy with no regularisation\n",
    "logistic_model = LogisticRegression(max_iter=130,penalty=None,solver='lbfgs')\n",
    "logistic_model.fit(X_train, y_train)\n",
    "y_pred = logistic_model.predict(X_train)\n",
    "accuracy = accuracy_score(y_train, y_pred)\n",
    "#confusion matrix is a 2x2 matrix representing true positive, true negative, false positive and false negative predictions\n",
    "conf_matrix = confusion_matrix(y_train, y_pred)\n",
    "#classification record includes additional performance measures such as precision, recall and f1 score to evaluate the model's performance\n",
    "classification_rep = classification_report(y_train, y_pred)\n",
    "print(\"Accuracy:\", accuracy)\n",
    "print(\"Confusion Matrix:\\n\", conf_matrix)\n",
    "print(\"Classification Report:\\n\", classification_rep)"
   ]
  },
  {
   "cell_type": "code",
   "execution_count": 10,
   "id": "52f4f221-eaf1-4654-a517-5af9a957cc75",
   "metadata": {},
   "outputs": [
    {
     "name": "stdout",
     "output_type": "stream",
     "text": [
      "Accuracy: 0.8366013071895425\n",
      "Confusion Matrix:\n",
      " [[302  11]\n",
      " [ 89 210]]\n",
      "Classification Report:\n",
      "               precision    recall  f1-score   support\n",
      "\n",
      "           0       0.77      0.96      0.86       313\n",
      "           1       0.95      0.70      0.81       299\n",
      "\n",
      "    accuracy                           0.84       612\n",
      "   macro avg       0.86      0.83      0.83       612\n",
      "weighted avg       0.86      0.84      0.83       612\n",
      "\n"
     ]
    }
   ],
   "source": [
    "#Finding the testing accuracy with no regularisation\n",
    "logistic_model = LogisticRegression(max_iter=130,penalty=None,solver='lbfgs')\n",
    "logistic_model.fit(X_train, y_train)\n",
    "y_pred = logistic_model.predict(X_test)\n",
    "accuracy = accuracy_score(y_test, y_pred)\n",
    "conf_matrix = confusion_matrix(y_test, y_pred)\n",
    "classification_rep = classification_report(y_test, y_pred)\n",
    "\n",
    "print(\"Accuracy:\", accuracy)\n",
    "print(\"Confusion Matrix:\\n\", conf_matrix)\n",
    "print(\"Classification Report:\\n\", classification_rep)\n"
   ]
  },
  {
   "cell_type": "code",
   "execution_count": 11,
   "id": "ed887dd2-88fa-4726-a033-63ec9622bb57",
   "metadata": {
    "scrolled": true
   },
   "outputs": [
    {
     "name": "stdout",
     "output_type": "stream",
     "text": [
      "Prediction: 0, Confidence Scores: [0.85864566 0.14135434]\n",
      "Prediction: 0, Confidence Scores: [0.70832376 0.29167624]\n",
      "Prediction: 0, Confidence Scores: [0.69767059 0.30232941]\n",
      "Prediction: 0, Confidence Scores: [0.61016495 0.38983505]\n",
      "Prediction: 0, Confidence Scores: [0.54913895 0.45086105]\n",
      "Prediction: 0, Confidence Scores: [0.62402521 0.37597479]\n",
      "Prediction: 1, Confidence Scores: [0.31697058 0.68302942]\n",
      "Prediction: 1, Confidence Scores: [0.03620737 0.96379263]\n",
      "Prediction: 0, Confidence Scores: [9.99999985e-01 1.46155247e-08]\n",
      "Prediction: 0, Confidence Scores: [0.65163108 0.34836892]\n",
      "Prediction: 0, Confidence Scores: [0.55760044 0.44239956]\n",
      "Prediction: 0, Confidence Scores: [0.54888763 0.45111237]\n",
      "Prediction: 0, Confidence Scores: [0.72826669 0.27173331]\n",
      "Prediction: 0, Confidence Scores: [0.60419519 0.39580481]\n",
      "Prediction: 0, Confidence Scores: [0.55975675 0.44024325]\n",
      "Prediction: 1, Confidence Scores: [0.29272459 0.70727541]\n",
      "Prediction: 0, Confidence Scores: [0.85853589 0.14146411]\n",
      "Prediction: 0, Confidence Scores: [0.70469013 0.29530987]\n",
      "Prediction: 1, Confidence Scores: [0.29054635 0.70945365]\n",
      "Prediction: 1, Confidence Scores: [1.51240175e-06 9.99998488e-01]\n",
      "Prediction: 0, Confidence Scores: [0.85747421 0.14252579]\n",
      "Prediction: 1, Confidence Scores: [0.29271071 0.70728929]\n",
      "Prediction: 0, Confidence Scores: [0.57623943 0.42376057]\n",
      "Prediction: 0, Confidence Scores: [0.61506004 0.38493996]\n",
      "Prediction: 1, Confidence Scores: [0.29051174 0.70948826]\n",
      "Prediction: 0, Confidence Scores: [0.56843575 0.43156425]\n",
      "Prediction: 1, Confidence Scores: [0.29054476 0.70945524]\n",
      "Prediction: 0, Confidence Scores: [0.84242717 0.15757283]\n",
      "Prediction: 1, Confidence Scores: [0.29062591 0.70937409]\n",
      "Prediction: 0, Confidence Scores: [0.85427775 0.14572225]\n",
      "Prediction: 1, Confidence Scores: [0.25197726 0.74802274]\n",
      "Prediction: 1, Confidence Scores: [0.29272787 0.70727213]\n",
      "Prediction: 0, Confidence Scores: [0.64307559 0.35692441]\n",
      "Prediction: 0, Confidence Scores: [0.54363845 0.45636155]\n",
      "Prediction: 0, Confidence Scores: [9.99999945e-01 5.46162772e-08]\n",
      "Prediction: 0, Confidence Scores: [0.79859964 0.20140036]\n",
      "Prediction: 0, Confidence Scores: [0.69945902 0.30054098]\n",
      "Prediction: 0, Confidence Scores: [0.74325592 0.25674408]\n",
      "Prediction: 0, Confidence Scores: [0.78175333 0.21824667]\n",
      "Prediction: 0, Confidence Scores: [0.65430828 0.34569172]\n",
      "Prediction: 0, Confidence Scores: [0.6907762 0.3092238]\n",
      "Prediction: 1, Confidence Scores: [0.29475293 0.70524707]\n",
      "Prediction: 0, Confidence Scores: [0.53368063 0.46631937]\n",
      "Prediction: 0, Confidence Scores: [0.7016568 0.2983432]\n",
      "Prediction: 1, Confidence Scores: [0.2905286 0.7094714]\n",
      "Prediction: 0, Confidence Scores: [0.64064054 0.35935946]\n",
      "Prediction: 1, Confidence Scores: [0.29052825 0.70947175]\n",
      "Prediction: 1, Confidence Scores: [0.03590811 0.96409189]\n",
      "Prediction: 0, Confidence Scores: [0.60683749 0.39316251]\n",
      "Prediction: 1, Confidence Scores: [0.41447808 0.58552192]\n",
      "Prediction: 0, Confidence Scores: [0.75498505 0.24501495]\n",
      "Prediction: 0, Confidence Scores: [0.55848909 0.44151091]\n",
      "Prediction: 0, Confidence Scores: [0.65887927 0.34112073]\n",
      "Prediction: 1, Confidence Scores: [0.47877822 0.52122178]\n",
      "Prediction: 0, Confidence Scores: [0.62218948 0.37781052]\n",
      "Prediction: 0, Confidence Scores: [0.56469816 0.43530184]\n",
      "Prediction: 0, Confidence Scores: [0.72511754 0.27488246]\n",
      "Prediction: 1, Confidence Scores: [0.49088572 0.50911428]\n",
      "Prediction: 0, Confidence Scores: [0.61470446 0.38529554]\n",
      "Prediction: 0, Confidence Scores: [0.85855259 0.14144741]\n",
      "Prediction: 0, Confidence Scores: [0.75877453 0.24122547]\n"
     ]
    }
   ],
   "source": [
    "#confidence scores and predictions for a few test data points\n",
    "confidence_scores = logistic_model.predict_proba(X_test)\n",
    "for i in range(len(y_pred)//10):\n",
    "    print(f\"Prediction: {y_pred[i]}, Confidence Scores: {confidence_scores[i]}\")"
   ]
  },
  {
   "cell_type": "code",
   "execution_count": 12,
   "id": "6621cee3-26d9-489e-bf48-120abdaa8b69",
   "metadata": {},
   "outputs": [
    {
     "name": "stdout",
     "output_type": "stream",
     "text": [
      "Accuracy: 0.8366013071895425\n",
      "Confusion Matrix:\n",
      " [[302  11]\n",
      " [ 89 210]]\n",
      "Classification Report:\n",
      "               precision    recall  f1-score   support\n",
      "\n",
      "           0       0.77      0.96      0.86       313\n",
      "           1       0.95      0.70      0.81       299\n",
      "\n",
      "    accuracy                           0.84       612\n",
      "   macro avg       0.86      0.83      0.83       612\n",
      "weighted avg       0.86      0.84      0.83       612\n",
      "\n"
     ]
    }
   ],
   "source": [
    "#changing the regularization function to l2 doesn't affect the accuracy in this case\n",
    "logistic_model = LogisticRegression(max_iter=1000,penalty='l2',solver='lbfgs')\n",
    "logistic_model.fit(X_train, y_train)\n",
    "y_pred = logistic_model.predict(X_test)\n",
    "accuracy = accuracy_score(y_test, y_pred)\n",
    "conf_matrix = confusion_matrix(y_test, y_pred)\n",
    "classification_rep = classification_report(y_test, y_pred)\n",
    "\n",
    "print(\"Accuracy:\", accuracy)\n",
    "print(\"Confusion Matrix:\\n\", conf_matrix)\n",
    "print(\"Classification Report:\\n\", classification_rep)"
   ]
  },
  {
   "cell_type": "markdown",
   "id": "a0d896a5-2e3c-4363-b42e-e00b5e3e25a1",
   "metadata": {},
   "source": [
    "### To Summarize (No regularization 'lbgfs' solver):\n",
    "#### Training Accuracy: 0.811\n",
    "#### Testing Accuracy: 0.836\n",
    "#### Overfitting of the model is out of the question as the testing accuracy appears to be more than the training accuracy\n",
    "#### The model takes around 130 iterations to converge\n",
    "##### It is interesting to note that the training accuracy is smaller than the testing accuracy using lbfgs solver. This is quite rare and could mean \n",
    "##### several things. One of the more apparent possibilities is that the 'lbfgs' solver isn't the most compatible with our data. We will see later\n",
    "\n",
    "##### that the 'liblinear' solver performs way better with our data."
   ]
  },
  {
   "cell_type": "markdown",
   "id": "f1573324-bc19-4c6a-9d49-047c85070583",
   "metadata": {
    "jp-MarkdownHeadingCollapsed": true
   },
   "source": [
    "\n",
    "---\n",
    "\n",
    "### 5. Checking Feature weights and drawing conclusions"
   ]
  },
  {
   "cell_type": "code",
   "execution_count": 13,
   "id": "44c3299e-e154-4dc2-ab2b-5bf13cba5471",
   "metadata": {},
   "outputs": [
    {
     "name": "stdout",
     "output_type": "stream",
     "text": [
      "[('dst_host_srv_count', 0.01299166010754258), ('count', 0.005286307482186004), ('hot', 0.0006360275415820902), ('duration', 0.0003160368032447386), ('same_srv_rate', 0.00013895803505680992), ('rerror_rate', 0.0001290851644299887), ('srv_rerror_rate', 0.00012156812477574205), ('dst_host_rerror_rate', 0.000120737296992912), ('dst_host_srv_rerror_rate', 0.00011890680281737148), ('dst_host_diff_srv_rate', 0.00011425546655830461)]\n"
     ]
    }
   ],
   "source": [
    "#Getting the weights of the features using no regularization\n",
    "logistic_model = LogisticRegression(max_iter=130,penalty=None,solver='lbfgs')\n",
    "logistic_model.fit(X_train, y_train)\n",
    "feature_weights = logistic_model.coef_\n",
    "#Creating an array to store the weights that are numerically significant\n",
    "significant={}\n",
    "feature_names = X_train.columns.tolist()\n",
    "#loop to filter out the weights that are too small to be of significance, here I've considered any weight greater than 0.0001 to be significant\n",
    "for i, weight in enumerate(feature_weights[0]):\n",
    "    if(weight>0.0001):\n",
    "        significant.update({feature_names[i]:weight})\n",
    "#printing the significant weights in descending order\n",
    "significant=sorted(significant.items(), key=lambda x: x[1], reverse=True)\n",
    "print(significant)"
   ]
  },
  {
   "cell_type": "code",
   "execution_count": 14,
   "id": "0a94b0e4-29c5-450a-928c-70699a424af8",
   "metadata": {
    "scrolled": true
   },
   "outputs": [
    {
     "data": {
      "text/plain": [
       "Text(0.5, 1.0, 'Feature Weights Bar Plot')"
      ]
     },
     "execution_count": 14,
     "metadata": {},
     "output_type": "execute_result"
    },
    {
     "data": {
      "image/png": "[encoded data removed]",
      "text/plain": [
       "<Figure size 720x432 with 1 Axes>"
      ]
     },
     "metadata": {
      "needs_background": "light"
     },
     "output_type": "display_data"
    }
   ],
   "source": [
    "#taking the feature names and corresponding weights out of the 'significant' dictionary and storing them in an array\n",
    "feature_weights_arr=[]\n",
    "feature_names_arr=[]\n",
    "for i in significant:\n",
    "    feature_names_arr.append(i[0])\n",
    "    feature_weights_arr.append(i[1])\n",
    "#plotting the weights on a bar graph using Seaborn's barplot\n",
    "plt.figure(figsize=(10, 6))\n",
    "d = pd.DataFrame({'feature_names': feature_names_arr, 'feature_weights': feature_weights_arr})\n",
    "sns.barplot(y='feature_names', x='feature_weights',data=d)\n",
    "\n",
    "# Customize plot labels and title\n",
    "plt.xlabel('Feature Weights')\n",
    "plt.ylabel('Feature Names')\n",
    "plt.title('Feature Weights Bar Plot')"
   ]
  },
  {
   "cell_type": "markdown",
   "id": "1630f73c-46a9-47ee-8f97-42677b2fe696",
   "metadata": {},
   "source": [
    "##### This feature likely represents the number of connections or services accessed on the destination host. A higher dst_host_srv_count could indicate a more active or frequently used host. This could equate to more attacks targeted on the host.\n",
    "##### The count feature represents the number of connections or events related to the network traffic. The more the number of connections, the more the chances of attacks.\n",
    "##### 'duration' represents the duration of a connection or event. It could indicate how long a particular event or connection lasted. The longer it is connected, the more the chances of malicious activities"
   ]
  },
  {
   "cell_type": "markdown",
   "id": "48c38131-9810-48c9-b943-17500d00b9a4",
   "metadata": {
    "jp-MarkdownHeadingCollapsed": true
   },
   "source": [
    "\n",
    "---\n",
    "\n",
    "### 6. With l1 and l2 regularization using liblinear solver (only works with l1 and l2 regularization)"
   ]
  },
  {
   "cell_type": "code",
   "execution_count": 15,
   "id": "2b9a99b2-c183-44d7-8da9-31809ea8f04f",
   "metadata": {},
   "outputs": [
    {
     "name": "stdout",
     "output_type": "stream",
     "text": [
      "Accuracy: 0.988562091503268\n",
      "Confusion Matrix:\n",
      " [[306   7]\n",
      " [  0 299]]\n",
      "Classification Report:\n",
      "               precision    recall  f1-score   support\n",
      "\n",
      "           0       1.00      0.98      0.99       313\n",
      "           1       0.98      1.00      0.99       299\n",
      "\n",
      "    accuracy                           0.99       612\n",
      "   macro avg       0.99      0.99      0.99       612\n",
      "weighted avg       0.99      0.99      0.99       612\n",
      "\n"
     ]
    }
   ],
   "source": [
    "#liblinear solver using l1 regularization\n",
    "logistic_model = LogisticRegression(max_iter=1000,penalty='l1',solver='liblinear')\n",
    "logistic_model.fit(X_train, y_train)\n",
    "y_pred = logistic_model.predict(X_test)\n",
    "accuracy = accuracy_score(y_test, y_pred)\n",
    "conf_matrix = confusion_matrix(y_test, y_pred)\n",
    "classification_rep = classification_report(y_test, y_pred)\n",
    "\n",
    "print(\"Accuracy:\", accuracy)\n",
    "print(\"Confusion Matrix:\\n\", conf_matrix)\n",
    "print(\"Classification Report:\\n\", classification_rep)"
   ]
  },
  {
   "cell_type": "code",
   "execution_count": 16,
   "id": "ab24bf54-feae-4432-b009-e0740ce5443a",
   "metadata": {},
   "outputs": [
    {
     "name": "stdout",
     "output_type": "stream",
     "text": [
      "Prediction: 1, Confidence Scores: [0.01365445 0.98634555]\n",
      "Prediction: 0, Confidence Scores: [0.99844571 0.00155429]\n",
      "Prediction: 0, Confidence Scores: [0.99878836 0.00121164]\n",
      "Prediction: 0, Confidence Scores: [9.99273892e-01 7.26107564e-04]\n",
      "Prediction: 1, Confidence Scores: [2.13983551e-04 9.99786016e-01]\n",
      "Prediction: 0, Confidence Scores: [9.99083359e-01 9.16641008e-04]\n",
      "Prediction: 1, Confidence Scores: [0.01412483 0.98587517]\n",
      "Prediction: 1, Confidence Scores: [0.00460438 0.99539562]\n",
      "Prediction: 0, Confidence Scores: [9.99253500e-01 7.46500197e-04]\n",
      "Prediction: 0, Confidence Scores: [0.99892078 0.00107922]\n",
      "Prediction: 0, Confidence Scores: [9.99460562e-01 5.39437531e-04]\n",
      "Prediction: 0, Confidence Scores: [0.9982485 0.0017515]\n",
      "Prediction: 0, Confidence Scores: [0.99809806 0.00190194]\n",
      "Prediction: 1, Confidence Scores: [0.09914607 0.90085393]\n",
      "Prediction: 0, Confidence Scores: [0.99822895 0.00177105]\n",
      "Prediction: 1, Confidence Scores: [5.55593889e-04 9.99444406e-01]\n",
      "Prediction: 1, Confidence Scores: [0.00156393 0.99843607]\n",
      "Prediction: 0, Confidence Scores: [0.9949188 0.0050812]\n",
      "Prediction: 1, Confidence Scores: [0.00105037 0.99894963]\n",
      "Prediction: 1, Confidence Scores: [0.07083726 0.92916274]\n",
      "Prediction: 1, Confidence Scores: [8.34947124e-06 9.99991651e-01]\n",
      "Prediction: 1, Confidence Scores: [2.94322442e-04 9.99705678e-01]\n",
      "Prediction: 0, Confidence Scores: [0.99796047 0.00203953]\n",
      "Prediction: 1, Confidence Scores: [1.71398315e-04 9.99828602e-01]\n",
      "Prediction: 1, Confidence Scores: [1.68321029e-04 9.99831679e-01]\n",
      "Prediction: 0, Confidence Scores: [0.99801702 0.00198298]\n",
      "Prediction: 1, Confidence Scores: [6.75888905e-04 9.99324111e-01]\n",
      "Prediction: 1, Confidence Scores: [0.00307772 0.99692228]\n",
      "Prediction: 1, Confidence Scores: [1.18666785e-04 9.99881333e-01]\n",
      "Prediction: 0, Confidence Scores: [9.99999929e-01 7.13361411e-08]\n",
      "Prediction: 1, Confidence Scores: [0.01361973 0.98638027]\n",
      "Prediction: 1, Confidence Scores: [4.83509893e-04 9.99516490e-01]\n",
      "Prediction: 0, Confidence Scores: [0.99675438 0.00324562]\n",
      "Prediction: 1, Confidence Scores: [4.28071411e-05 9.99957193e-01]\n",
      "Prediction: 0, Confidence Scores: [0.99882932 0.00117068]\n",
      "Prediction: 1, Confidence Scores: [0.00309541 0.99690459]\n",
      "Prediction: 0, Confidence Scores: [0.99808083 0.00191917]\n",
      "Prediction: 0, Confidence Scores: [0.99268309 0.00731691]\n",
      "Prediction: 0, Confidence Scores: [0.99679792 0.00320208]\n",
      "Prediction: 0, Confidence Scores: [0.99523865 0.00476135]\n",
      "Prediction: 0, Confidence Scores: [0.99871532 0.00128468]\n",
      "Prediction: 1, Confidence Scores: [0.01382122 0.98617878]\n",
      "Prediction: 0, Confidence Scores: [9.99595463e-01 4.04537359e-04]\n",
      "Prediction: 0, Confidence Scores: [9.99999982e-01 1.77088331e-08]\n",
      "Prediction: 1, Confidence Scores: [3.32631479e-04 9.99667369e-01]\n",
      "Prediction: 0, Confidence Scores: [0.9989771 0.0010229]\n",
      "Prediction: 1, Confidence Scores: [4.77155597e-04 9.99522844e-01]\n",
      "Prediction: 1, Confidence Scores: [0.00352438 0.99647562]\n",
      "Prediction: 0, Confidence Scores: [9.99169620e-01 8.30380454e-04]\n",
      "Prediction: 1, Confidence Scores: [0.00128232 0.99871768]\n",
      "Prediction: 1, Confidence Scores: [1.99791844e-04 9.99800208e-01]\n",
      "Prediction: 0, Confidence Scores: [9.99454587e-01 5.45413498e-04]\n",
      "Prediction: 1, Confidence Scores: [5.77776842e-04 9.99422223e-01]\n",
      "Prediction: 0, Confidence Scores: [0.96201853 0.03798147]\n",
      "Prediction: 0, Confidence Scores: [9.99150069e-01 8.49931444e-04]\n",
      "Prediction: 0, Confidence Scores: [9.99392427e-01 6.07573252e-04]\n",
      "Prediction: 0, Confidence Scores: [0.99839068 0.00160932]\n",
      "Prediction: 1, Confidence Scores: [4.86521342e-05 9.99951348e-01]\n",
      "Prediction: 0, Confidence Scores: [9.99048411e-01 9.51588739e-04]\n",
      "Prediction: 1, Confidence Scores: [0.01530014 0.98469986]\n",
      "Prediction: 1, Confidence Scores: [0.00180107 0.99819893]\n"
     ]
    }
   ],
   "source": [
    "#confidence scores and predictions for a few test data points\n",
    "confidence_scores = logistic_model.predict_proba(X_test)\n",
    "for i in range(len(y_pred)//10):\n",
    "    print(f\"Prediction: {y_pred[i]}, Confidence Scores: {confidence_scores[i]}\")"
   ]
  },
  {
   "cell_type": "code",
   "execution_count": 17,
   "id": "7e0d568d-0dd3-4b36-a271-c50a27ed5c43",
   "metadata": {
    "scrolled": true
   },
   "outputs": [
    {
     "name": "stdout",
     "output_type": "stream",
     "text": [
      "Accuracy: 0.8349673202614379\n",
      "Confusion Matrix:\n",
      " [[303  10]\n",
      " [ 91 208]]\n",
      "Classification Report:\n",
      "               precision    recall  f1-score   support\n",
      "\n",
      "           0       0.77      0.97      0.86       313\n",
      "           1       0.95      0.70      0.80       299\n",
      "\n",
      "    accuracy                           0.83       612\n",
      "   macro avg       0.86      0.83      0.83       612\n",
      "weighted avg       0.86      0.83      0.83       612\n",
      "\n"
     ]
    }
   ],
   "source": [
    "#liblinear solver using l2 regularization\n",
    "logistic_model = LogisticRegression(max_iter=1000,penalty='l2',solver='liblinear')\n",
    "logistic_model.fit(X_train, y_train)\n",
    "y_pred = logistic_model.predict(X_test)\n",
    "accuracy = accuracy_score(y_test, y_pred)\n",
    "conf_matrix = confusion_matrix(y_test, y_pred)\n",
    "classification_rep = classification_report(y_test, y_pred)\n",
    "\n",
    "print(\"Accuracy:\", accuracy)\n",
    "print(\"Confusion Matrix:\\n\", conf_matrix)\n",
    "print(\"Classification Report:\\n\", classification_rep)"
   ]
  },
  {
   "cell_type": "markdown",
   "id": "325e41f8-c2c7-4fb5-b508-f88d36f7cd4c",
   "metadata": {},
   "source": [
    "##### l1 regularization accuracy: 98.95%\n",
    "##### l2 regularization accuracy: 83.49%\n",
    "##### As we can see, l1 regularization produces more accuarate results than l2 resularization."
   ]
  },
  {
   "cell_type": "markdown",
   "id": "28b659b0-53ca-4b27-bb2b-4e4642edf7dd",
   "metadata": {
    "jp-MarkdownHeadingCollapsed": true
   },
   "source": [
    "### According to our observations, it seems like 'liblinear' solver is the most appropriate for our data\n",
    "#### Moving forward let's consider this solver for further inspection"
   ]
  },
  {
   "cell_type": "code",
   "execution_count": 18,
   "id": "d8af8d01-bca2-4736-bb89-462df6273660",
   "metadata": {},
   "outputs": [
    {
     "name": "stdout",
     "output_type": "stream",
     "text": [
      "[('dst_host_diff_srv_rate', 5.700821878919918), ('diff_srv_rate', 4.981993972663577), ('srv_diff_host_rate', 2.8503019496360875), ('dst_host_same_src_port_rate', 1.9787266343524887), ('same_srv_rate', 1.2221486981987244), (\"flag_b'S0'\", 1.2180559434423834), ('rerror_rate', 0.5213277100723398), ('dst_host_rerror_rate', 0.10481933550864322), ('dst_host_count', 0.006276007366071678)]\n"
     ]
    }
   ],
   "source": [
    "#Using the liblinear solver with l1 regularization and noting the most significant weights (>0.001)\n",
    "logistic_model = LogisticRegression(max_iter=30,penalty='l1',solver='liblinear')\n",
    "logistic_model.fit(X_train, y_train)\n",
    "feature_weights = logistic_model.coef_.tolist()\n",
    "significant={}\n",
    "feature_names = X_train.columns.tolist()\n",
    "for i, weight in enumerate(feature_weights[0]):\n",
    "    if(weight>0.001):\n",
    "        significant.update({feature_names[i]:weight})\n",
    "significant=sorted(significant.items(), key=lambda x: x[1], reverse=True)\n",
    "print(significant)"
   ]
  },
  {
   "cell_type": "code",
   "execution_count": 19,
   "id": "49186e60-a635-4f5b-8b42-2d16592a8646",
   "metadata": {},
   "outputs": [
    {
     "data": {
      "text/plain": [
       "Text(0.5, 1.0, 'Feature Weights Bar Plot')"
      ]
     },
     "execution_count": 19,
     "metadata": {},
     "output_type": "execute_result"
    },
    {
     "data": {
      "image/png": "[encoded data removed]",
      "text/plain": [
       "<Figure size 720x432 with 1 Axes>"
      ]
     },
     "metadata": {
      "needs_background": "light"
     },
     "output_type": "display_data"
    }
   ],
   "source": [
    "#plotting the significant weights on a bar graph\n",
    "feature_weights_arr=[]\n",
    "feature_names_arr=[]\n",
    "for i in significant:\n",
    "    feature_names_arr.append(i[0])\n",
    "    feature_weights_arr.append(i[1])\n",
    "plt.figure(figsize=(10, 6))\n",
    "d = pd.DataFrame({'feature_names': feature_names_arr, 'feature_weights': feature_weights_arr})\n",
    "sns.barplot(y='feature_names', x='feature_weights',data=d)\n",
    "\n",
    "# Customize plot labels and title\n",
    "plt.xlabel('Feature Weights')\n",
    "plt.ylabel('Feature Names')\n",
    "plt.title('Feature Weights Bar Plot')"
   ]
  },
  {
   "cell_type": "code",
   "execution_count": 20,
   "id": "80819ed3-c668-448f-b1ad-642a5c90e217",
   "metadata": {},
   "outputs": [
    {
     "name": "stdout",
     "output_type": "stream",
     "text": [
      "[('dst_host_srv_count', 0.011046767056811967), ('count', 0.005438849828247714), ('rerror_rate', 0.00038468711281561274), ('srv_rerror_rate', 0.0003665887968278768), ('dst_host_srv_rerror_rate', 0.00036552857965515623), ('dst_host_rerror_rate', 0.00035015454575249385), ('dst_host_diff_srv_rate', 0.00033717489775752824), ('dst_host_same_src_port_rate', 0.0003022473339203501), ('duration', 0.00030084458158565006), ('same_srv_rate', 0.0002875110250149994), ('diff_srv_rate', 0.00022363280261596187), ('srv_diff_host_rate', 0.00013303431621418502), (\"service_b'private'\", 0.00012764494333129074), ('dst_host_same_srv_rate', 0.00010656482101777357)]\n"
     ]
    }
   ],
   "source": [
    "#Using the liblinear solver with l2 regularization and noting the most significant weights (>0.0001)\n",
    "logistic_model = LogisticRegression(max_iter=50,penalty='l2',solver='liblinear')\n",
    "logistic_model.fit(X_train, y_train)\n",
    "feature_weights = logistic_model.coef_.tolist()\n",
    "significant={}\n",
    "feature_names = X_train.columns.tolist()\n",
    "for i, weight in enumerate(feature_weights[0]):\n",
    "    if(weight>0.0001):\n",
    "        significant.update({feature_names[i]:weight})\n",
    "significant=sorted(significant.items(), key=lambda x: x[1], reverse=True)\n",
    "print(significant)"
   ]
  },
  {
   "cell_type": "code",
   "execution_count": 21,
   "id": "3db101b6-3de8-4bb7-a3b6-5bafca204e29",
   "metadata": {},
   "outputs": [
    {
     "data": {
      "text/plain": [
       "Text(0.5, 1.0, 'Feature Weights Bar Plot')"
      ]
     },
     "execution_count": 21,
     "metadata": {},
     "output_type": "execute_result"
    },
    {
     "data": {
      "image/png": "[encoded data removed]",
      "text/plain": [
       "<Figure size 720x432 with 1 Axes>"
      ]
     },
     "metadata": {
      "needs_background": "light"
     },
     "output_type": "display_data"
    }
   ],
   "source": [
    "#plotting the significant weights on a bar graph\n",
    "feature_weights_arr=[]\n",
    "feature_names_arr=[]\n",
    "for i in significant:\n",
    "    feature_names_arr.append(i[0])\n",
    "    feature_weights_arr.append(i[1])\n",
    "plt.figure(figsize=(10, 6))\n",
    "d = pd.DataFrame({'feature_names': feature_names_arr, 'feature_weights': feature_weights_arr})\n",
    "sns.barplot(y='feature_names', x='feature_weights',data=d)\n",
    "\n",
    "# Customize plot labels and title\n",
    "plt.xlabel('Feature Weights')\n",
    "plt.ylabel('Feature Names')\n",
    "plt.title('Feature Weights Bar Plot')"
   ]
  },
  {
   "cell_type": "markdown",
   "id": "56f9c018-972b-434c-84e8-a5f7906a7974",
   "metadata": {
    "jp-MarkdownHeadingCollapsed": true
   },
   "source": [
    "\n",
    "---\n",
    "\n",
    "### 7. Trying Different Strengths of l2 Regularization"
   ]
  },
  {
   "cell_type": "code",
   "execution_count": 22,
   "id": "e5bdb66c-e645-4b41-88db-ac2383ea4317",
   "metadata": {},
   "outputs": [],
   "source": [
    "# Defining a function that affects the regularization strength as a paramter to avoid rewriting the same code for multiple strengths\n",
    "def reg_strength(c):\n",
    "    logistic_model = LogisticRegression(max_iter=1000,penalty='l2',solver='liblinear',C=c)\n",
    "    logistic_model.fit(X_train, y_train)\n",
    "    y_pred = logistic_model.predict(X_test)\n",
    "    accuracy = accuracy_score(y_test, y_pred)\n",
    "    conf_matrix = confusion_matrix(y_test, y_pred)\n",
    "    classification_rep = classification_report(y_test, y_pred)\n",
    "    \n",
    "    print(\"Accuracy:\", accuracy)\n",
    "    print(\"Confusion Matrix:\\n\", conf_matrix)\n",
    "    print(\"Classification Report:\\n\", classification_rep)"
   ]
  },
  {
   "cell_type": "code",
   "execution_count": 23,
   "id": "d156af1e-9b7c-4113-a9b8-82682acbe5fd",
   "metadata": {},
   "outputs": [
    {
     "name": "stdout",
     "output_type": "stream",
     "text": [
      "Accuracy: 0.8349673202614379\n",
      "Confusion Matrix:\n",
      " [[303  10]\n",
      " [ 91 208]]\n",
      "Classification Report:\n",
      "               precision    recall  f1-score   support\n",
      "\n",
      "           0       0.77      0.97      0.86       313\n",
      "           1       0.95      0.70      0.80       299\n",
      "\n",
      "    accuracy                           0.83       612\n",
      "   macro avg       0.86      0.83      0.83       612\n",
      "weighted avg       0.86      0.83      0.83       612\n",
      "\n"
     ]
    }
   ],
   "source": [
    "#liblinear solver using l2 regularization\n",
    "reg_strength(1)"
   ]
  },
  {
   "cell_type": "code",
   "execution_count": 24,
   "id": "2bce0969-5485-4169-b272-9abd07953597",
   "metadata": {},
   "outputs": [
    {
     "name": "stdout",
     "output_type": "stream",
     "text": [
      "Accuracy: 0.8333333333333334\n",
      "Confusion Matrix:\n",
      " [[304   9]\n",
      " [ 93 206]]\n",
      "Classification Report:\n",
      "               precision    recall  f1-score   support\n",
      "\n",
      "           0       0.77      0.97      0.86       313\n",
      "           1       0.96      0.69      0.80       299\n",
      "\n",
      "    accuracy                           0.83       612\n",
      "   macro avg       0.86      0.83      0.83       612\n",
      "weighted avg       0.86      0.83      0.83       612\n",
      "\n"
     ]
    }
   ],
   "source": [
    "#liblinear solver using l2 regularization\n",
    "reg_strength(0.1)"
   ]
  },
  {
   "cell_type": "code",
   "execution_count": 25,
   "id": "1843ad66-692e-4cb2-b5ac-07c3fd71c851",
   "metadata": {},
   "outputs": [
    {
     "name": "stdout",
     "output_type": "stream",
     "text": [
      "Accuracy: 0.826797385620915\n",
      "Confusion Matrix:\n",
      " [[307   6]\n",
      " [100 199]]\n",
      "Classification Report:\n",
      "               precision    recall  f1-score   support\n",
      "\n",
      "           0       0.75      0.98      0.85       313\n",
      "           1       0.97      0.67      0.79       299\n",
      "\n",
      "    accuracy                           0.83       612\n",
      "   macro avg       0.86      0.82      0.82       612\n",
      "weighted avg       0.86      0.83      0.82       612\n",
      "\n"
     ]
    }
   ],
   "source": [
    "#liblinear solver using l2 regularization\n",
    "reg_strength(0.01)"
   ]
  },
  {
   "cell_type": "code",
   "execution_count": 26,
   "id": "7c972188-a8eb-4371-87b9-30c045368174",
   "metadata": {},
   "outputs": [
    {
     "name": "stdout",
     "output_type": "stream",
     "text": [
      "Accuracy: 0.8235294117647058\n",
      "Confusion Matrix:\n",
      " [[304   9]\n",
      " [ 99 200]]\n",
      "Classification Report:\n",
      "               precision    recall  f1-score   support\n",
      "\n",
      "           0       0.75      0.97      0.85       313\n",
      "           1       0.96      0.67      0.79       299\n",
      "\n",
      "    accuracy                           0.82       612\n",
      "   macro avg       0.86      0.82      0.82       612\n",
      "weighted avg       0.85      0.82      0.82       612\n",
      "\n"
     ]
    }
   ],
   "source": [
    "#liblinear solver using l2 regularization\n",
    "reg_strength(0.001)"
   ]
  },
  {
   "cell_type": "code",
   "execution_count": 27,
   "id": "af7c5214-4489-477c-b342-3f73c687419a",
   "metadata": {},
   "outputs": [
    {
     "name": "stdout",
     "output_type": "stream",
     "text": [
      "Accuracy: 0.8382352941176471\n",
      "Confusion Matrix:\n",
      " [[304   9]\n",
      " [ 90 209]]\n",
      "Classification Report:\n",
      "               precision    recall  f1-score   support\n",
      "\n",
      "           0       0.77      0.97      0.86       313\n",
      "           1       0.96      0.70      0.81       299\n",
      "\n",
      "    accuracy                           0.84       612\n",
      "   macro avg       0.87      0.84      0.83       612\n",
      "weighted avg       0.86      0.84      0.83       612\n",
      "\n"
     ]
    }
   ],
   "source": [
    "#liblinear solver using l2 regularization\n",
    "reg_strength(10)"
   ]
  },
  {
   "cell_type": "code",
   "execution_count": 28,
   "id": "30c4d8e5-eab4-4b34-85cb-4c2595434331",
   "metadata": {},
   "outputs": [
    {
     "name": "stdout",
     "output_type": "stream",
     "text": [
      "Accuracy: 0.8251633986928104\n",
      "Confusion Matrix:\n",
      " [[305   8]\n",
      " [ 99 200]]\n",
      "Classification Report:\n",
      "               precision    recall  f1-score   support\n",
      "\n",
      "           0       0.75      0.97      0.85       313\n",
      "           1       0.96      0.67      0.79       299\n",
      "\n",
      "    accuracy                           0.83       612\n",
      "   macro avg       0.86      0.82      0.82       612\n",
      "weighted avg       0.86      0.83      0.82       612\n",
      "\n"
     ]
    }
   ],
   "source": [
    "reg_strength(50)"
   ]
  },
  {
   "cell_type": "markdown",
   "id": "ba14d6a3-9411-4798-a513-5f0c0efafe24",
   "metadata": {},
   "source": [
    "##### A possible interpretation is that our logistic regression model is relatively robust to overfitting. L2 regularization is primarily used to \n",
    "\n",
    "##### combat overfitting by penalizing large coefficients, which helps in reducing model complexity. We find that different values of the        \n",
    "\n",
    "##### regularization parameter don't substantially affect accuracy, it suggests that the model is not prone to overfitting, at least within the range \n",
    "\n",
    "##### of regularization strengths that we've tested. \n",
    "\n",
    "##### Another explanation could be that the model is not highly reliant on specific features or that the features in the dataset are already well-\n",
    "\n",
    "##### scaled and not prone to extreme values."
   ]
  },
  {
   "cell_type": "markdown",
   "id": "a3b4d68b-7596-4f71-8be4-8c17ecb4e507",
   "metadata": {},
   "source": [
    "\n",
    "---\n",
    "\n",
    "## Summarizing the results:\n",
    "\n",
    "#### The only unexpected output was the testing accuracy being greater than the training accuracy when we didn't use any normalization. Again, this could be due to the incompatibility of the solver with the sampled data.\n",
    "#### It could also be because of a rare case where the test data more accurately represents the underlying trends in the dataset as compared to the training data."
   ]
  }
 ],
 "metadata": {
  "kernelspec": {
   "display_name": "Python 3",
   "language": "python",
   "name": "python3"
  },
  "language_info": {
   "codemirror_mode": {
    "name": "ipython",
    "version": 3
   },
   "file_extension": ".py",
   "mimetype": "text/x-python",
   "name": "python",
   "nbconvert_exporter": "python",
   "pygments_lexer": "ipython3",
   "version": "3.9.5"
  }
 },
 "nbformat": 4,
 "nbformat_minor": 5
}
